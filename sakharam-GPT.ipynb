{
 "cells": [
  {
   "cell_type": "markdown",
   "metadata": {},
   "source": [
    "# Marathi Mini GPT\n",
    "This notebook will explore steps for creating Transformer model which mimic 'Sakharam Gatne'. \n",
    "\n",
    "P. L. Deshpande, affectionately known as Pu La Deshpande, was a remarkable Marathi author, playwright, and humorist who captivated readers and audiences alike with his witty writing and astute observations of diverse personalities in day-to-day activities.\n",
    "\n",
    "Sakharam Gatane is a memorable character from Deshpande's book \"Vyakti Ani Valli,\" which is a collection of character sketches. The character of Sakharam Gatane has become iconic, representing the essence of Deshpande's astute observations and his unique style of storytelling.\n",
    "\n",
    "Our approach involved curating a dataset of Sakharam's dialogues and creating similar sentences to build a dialogue dataset. Leveraging the code from the nano-gpt lecture by Andrej Karpathy, we successfully developed a model capable of generating monologues for Sakharam Gatne.\n",
    "\n",
    "Most of code and structure of Transformer model taken from following [colab](https://colab.research.google.com/drive/1JMLa53HDuA-i7ZBmqV7ZnA3c_fvtXnx-?usp=sharing). You can refer this interesting [Youtube_Video](https://www.youtube.com/watch?v=kCc8FmEb1nY) for more better understanding.\n",
    "\n"
   ]
  },
  {
   "cell_type": "markdown",
   "metadata": {},
   "source": [
    "As you can see we load some real and similar dialouge of Sakharam from 'sakharam_sentences.txt' file."
   ]
  },
  {
   "cell_type": "code",
   "execution_count": 1,
   "metadata": {},
   "outputs": [],
   "source": [
    "# read it in to inspect it\n",
    "with open('sakharam_senteces.txt', 'r', encoding='utf-8') as f:\n",
    "    text = f.read()"
   ]
  },
  {
   "cell_type": "markdown",
   "metadata": {},
   "source": [
    "Total character in dataset : 2551103"
   ]
  },
  {
   "cell_type": "code",
   "execution_count": 2,
   "metadata": {},
   "outputs": [
    {
     "name": "stdout",
     "output_type": "stream",
     "text": [
      "length of dataset in characters:  2551103\n"
     ]
    }
   ],
   "source": [
    "print(\"length of dataset in characters: \", len(text))"
   ]
  },
  {
   "cell_type": "markdown",
   "metadata": {},
   "source": [
    "You can see some sentences of Sakharam."
   ]
  },
  {
   "cell_type": "code",
   "execution_count": 3,
   "metadata": {},
   "outputs": [
    {
     "name": "stdout",
     "output_type": "stream",
     "text": [
      "हे वाक्य मला आपले जीवन विषयक सूत्र वाटते.\n",
      "“संधी” अपोआप नाही घडत, त्या घडवाव्या लागतात.\n",
      "कोणतेही उद्दिष्ट मेहनती शिवाय साध्य होत नसते .\n",
      "जीवनाच्या समरात रक्तबंबाळ व्हायचे प्रसंग यायचेच.\n",
      "मोत्यांच्या हारापेक्षा घामाच्या धारांनी  मनुष्य शोभून दिसतो,  मोत्याच्या हारांनी फक्त सौंदर्य दिसतं,  पण घामाच्या धारांनी कर्तुत्व सिद्ध होत..\n",
      "फक्त स्वत:साठी जगलास तर मेलास  आणि स्वत:साठी जगून दुसऱ्यांसाठी  जगलास तर जगलास ! प्रत्येक यशस्वी पुरुषामागे एक स्त्री असते.\n",
      "प्राज्ञ परीक्षेत पास झालो.\n",
      "दुसरी: जे मिळवले आहे तेच आवडून घ्यायला शिका .\n",
      "प्रयत्न करत राहा कारण सुरुवात नेहमी कठीणच असते .\n",
      "या पुढे आपल्याला मी कसलीच तसदी देणार नाही.\n",
      "प्रसिध्दी ही अशी बाब आहे जी कितीही मिळाली तरी माणसाची तहान भागत नाही.\n",
      "चुक ही चुकच असते, कोणी केली याला महत्व नसते.\n",
      "आणि जीवनाशीही.\n",
      "काळजाची प्रत्येक जखम भरून येते कारण काळ दुःखावर मायेची फुंकर घालत असतो.\n",
      "देवाचे आभार.\n",
      "आपल्या साधनेत व्यत्यय तर नाहीना आणला.\n",
      "जे आमच्या हातून घडले नाही ते तुम्ही करून दाखवा.\n",
      "सर्व गोष्टींना पुरून उरणारी एकच गोष्ट आहे .\n",
      "माझ्या या मुग्ध वाक्याला हसणे साहजिक आहे\n"
     ]
    }
   ],
   "source": [
    "# let's look at the first 1000 characters\n",
    "print(text[:1000])"
   ]
  },
  {
   "cell_type": "markdown",
   "metadata": {},
   "source": [
    "You can see vocabulary which contains Devnagari letters, some puctuations and smileys."
   ]
  },
  {
   "cell_type": "code",
   "execution_count": 4,
   "metadata": {},
   "outputs": [
    {
     "name": "stdout",
     "output_type": "stream",
     "text": [
      "\n",
      " !%(),-./015:;?| ंःअआइईउऊऋऎएऐओऔकखगघङचछजझञटठडढणतथदधनपफबभमयरऱलळवशषसह़ािीुूृॄॅेैॉोौ्य़।॥०१२४५६८९‍–‘’“”…☑️🌸🌿🏋🏻💪💯📚🔊🔰🔱😄😇😊😎🙏🤔🤟🤾\n",
      "120\n"
     ]
    }
   ],
   "source": [
    "# here are all the unique characters that occur in this text\n",
    "chars = sorted(list(set(text)))\n",
    "vocab_size = len(chars)\n",
    "print(''.join(chars))\n",
    "print(vocab_size)"
   ]
  },
  {
   "cell_type": "markdown",
   "metadata": {},
   "source": [
    "Now we are creating encoder and decoders. As this is character based model we are creating charector to integer and reverse maps."
   ]
  },
  {
   "cell_type": "code",
   "execution_count": 5,
   "metadata": {},
   "outputs": [
    {
     "name": "stdout",
     "output_type": "stream",
     "text": [
      "[65, 56, 58, 68, 47, 1, 58, 32, 81, 47, 54, 18, 54, 68, 61]\n",
      "समरात रक्तबंबाळ\n"
     ]
    }
   ],
   "source": [
    "stoi = { ch:i for i,ch in enumerate(chars) }\n",
    "itos = { i:ch for i,ch in enumerate(chars) }\n",
    "encode = lambda s: [stoi[c] for c in s] # encoder: take a string, output a list of integers\n",
    "decode = lambda l: ''.join([itos[i] for i in l]) # decoder: take a list of integers, output a string\n",
    "print(encode(\"समरात रक्तबंबाळ\"))\n",
    "print(decode(encode(\"समरात रक्तबंबाळ\")))"
   ]
  },
  {
   "cell_type": "markdown",
   "metadata": {},
   "source": [
    "You can see sentence dataset in Integer format."
   ]
  },
  {
   "cell_type": "code",
   "execution_count": 6,
   "metadata": {},
   "outputs": [
    {
     "name": "stdout",
     "output_type": "stream",
     "text": [
      "torch.Size([2551103]) torch.int64\n",
      "tensor([66, 76,  1, 62, 68, 32, 81, 57,  1, 56, 60, 68,  1, 21, 52, 60, 76,  1,\n",
      "        39, 70, 62, 51,  1, 62, 69, 64, 57, 32,  1, 65, 72, 47, 81, 58,  1, 62,\n",
      "        68, 42, 47, 76,  8,  0, 97, 65, 18, 50, 70, 98,  1, 20, 52, 79, 21, 52,\n",
      "         1, 51, 68, 66, 70,  1, 35, 44, 47,  6,  1, 47, 81, 57, 68,  1, 35, 44,\n",
      "        62, 68, 62, 81, 57, 68,  1, 60, 68, 34, 47, 68, 47,  8,  0, 32, 79, 46,\n",
      "        47, 76, 66, 70,  1, 24, 49, 81, 49, 69, 64, 81, 42,  1, 56, 76, 66, 51,\n",
      "        47, 70,  1, 63, 69, 62, 68, 57,  1, 65, 68, 50, 81, 57,  1, 66, 79, 47,\n",
      "         1, 51, 65, 47, 76,  1,  8,  0, 39, 70, 62, 51, 68, 37, 81, 57, 68,  1,\n",
      "        65, 56, 58, 68, 47,  1, 58, 32, 81, 47, 54, 18, 54, 68, 61,  1, 62, 81,\n",
      "        66, 68, 57, 37, 76,  1, 52, 81, 58, 65, 18, 34,  1, 57, 68, 57, 37, 76,\n",
      "        37,  8,  0, 56, 79, 47, 81, 57, 68, 18, 37, 81, 57, 68,  1, 66, 68, 58,\n",
      "        68, 52, 76, 32, 81, 64, 68,  1, 35, 68, 56, 68, 37, 81, 57, 68,  1, 50,\n",
      "        68, 58, 68, 18, 51, 70,  1,  1, 56, 51, 71, 64, 81, 57,  1, 63, 79, 55,\n",
      "        72, 51,  1, 49, 69, 65, 47, 79,  6,  1,  1, 56, 79, 47, 81, 57, 68, 37,\n",
      "        81, 57, 68,  1, 66, 68, 58, 68, 18, 51, 70,  1, 53, 32, 81, 47,  1, 65,\n",
      "        80, 18, 49, 58, 81, 57,  1, 49, 69, 65, 47, 18,  6,  1,  1, 52, 46,  1,\n",
      "        35, 68, 56, 68, 37, 81, 57, 68,  1, 50, 68, 58, 68, 18, 51, 70,  1, 32,\n",
      "        58, 81, 47, 71, 47, 81, 62,  1, 65, 69, 49, 81, 50,  1, 66, 79, 47,  8,\n",
      "         8,  0, 53, 32, 81, 47,  1, 65, 81, 62, 47, 13, 65, 68, 43, 70,  1, 39,\n",
      "        34, 60, 68, 65,  1, 47, 58,  1, 56, 76, 60, 68, 65,  1,  1, 21, 46, 69,\n",
      "         1, 65, 81, 62, 47, 13, 65, 68, 43, 70,  1, 39, 34, 72, 51,  1, 49, 71,\n",
      "        65, 59, 81, 57, 68, 18, 65, 68, 43, 70,  1,  1, 39, 34, 60, 68, 65,  1,\n",
      "        47, 58,  1, 39, 34, 60, 68, 65,  1,  2,  1, 52, 81, 58, 47, 81, 57, 76,\n",
      "        32,  1, 57, 63, 65, 81, 62, 70,  1, 52, 71, 58, 71, 64, 68, 56, 68, 34,\n",
      "        76,  1, 28, 32,  1, 65, 81, 47, 81, 58, 70,  1, 20, 65, 47, 76,  8,  0,\n",
      "        52, 81, 58, 68, 39, 81, 41,  1, 52, 58, 70, 32, 81, 64, 76, 47,  1, 52,\n",
      "        68, 65,  1, 40, 68, 60, 79,  8,  0, 49, 71, 65, 58, 70, 13,  1, 39, 76,\n",
      "         1, 56, 69, 61, 62, 60, 76,  1, 21, 66, 76,  1, 47, 76, 37,  1, 21, 62,\n",
      "        44, 72, 51,  1, 35, 81, 57, 68, 57, 60, 68,  1, 63, 69, 32, 68,  1,  8,\n",
      "         0, 52, 81, 58, 57, 47, 81, 51,  1, 32, 58, 47,  1, 58, 68, 66, 68,  1,\n",
      "        32, 68, 58, 46,  1, 65, 71, 58, 71, 62, 68, 47,  1, 51, 76, 66, 56, 70,\n",
      "         1, 32, 43, 70, 46, 37,  1, 20, 65, 47, 76,  1,  8,  0, 57, 68,  1, 52,\n",
      "        71, 45, 76,  1, 21, 52, 60, 81, 57, 68, 60, 68,  1, 56, 70,  1, 32, 65,\n",
      "        60, 70, 37,  1, 47, 65, 49, 70,  1, 49, 76, 46, 68, 58,  1, 51, 68, 66,\n",
      "        70,  8,  0, 52, 81, 58, 65, 69, 50, 81, 49, 70,  1, 66, 70,  1, 20, 63,\n",
      "        70,  1, 54, 68, 54,  1, 21, 66, 76,  1, 39, 70,  1, 32, 69, 47, 70, 66,\n",
      "        70,  1, 56, 69, 61, 68, 60, 70,  1, 47, 58, 70,  1, 56, 68, 46, 65, 68,\n",
      "        37, 70,  1, 47, 66, 68, 51,  1, 55, 68, 34, 47,  1, 51, 68, 66, 70,  8,\n",
      "         0, 37, 71, 32,  1, 66, 70,  1, 37, 71, 32, 37,  1, 20, 65, 47, 76,  6,\n",
      "         1, 32, 79, 46, 70,  1, 32, 76, 60, 70,  1, 57, 68, 60, 68,  1, 56, 66,\n",
      "        47, 81, 62,  1, 51, 65, 47, 76,  8,  0, 21, 46, 69,  1, 39, 70, 62, 51,\n",
      "        68, 63, 70, 66, 70,  8,  0, 32, 68, 61, 39, 68, 37, 70,  1, 52, 81, 58,\n",
      "        47, 81, 57, 76, 32,  1, 39, 33, 56,  1, 55, 58, 72, 51,  1, 57, 76, 47,\n",
      "        76,  1, 32, 68, 58, 46,  1, 32, 68, 61,  1, 49, 71, 19, 33, 68, 62, 58,\n",
      "         1, 56, 68, 57, 76, 37, 70,  1, 53, 71, 18, 32, 58,  1, 35, 68, 60, 47,\n",
      "         1, 20, 65, 47, 79,  8,  0, 49, 76, 62, 68, 37, 76,  1, 21, 55, 68, 58,\n",
      "         8,  0, 21, 52, 60, 81, 57, 68,  1, 65, 68, 50, 51, 76, 47,  1, 62, 81,\n",
      "        57, 47, 81, 57, 57,  1, 47, 58,  1, 51, 68, 66, 70, 51, 68,  1, 21, 46,\n",
      "        60, 68,  8,  0, 39, 76,  1, 21, 56, 37, 81, 57, 68,  1, 66, 68, 47, 72,\n",
      "        51,  1, 35, 44, 60, 76,  1, 51, 68, 66, 70,  1, 47, 76,  1, 47, 71, 56,\n",
      "        81, 66, 70,  1, 32, 58, 72, 51,  1, 49, 68, 33, 62, 68,  8,  0, 65, 58,\n",
      "        81, 62,  1, 34, 79, 64, 81, 42, 70, 18, 51, 68,  1, 52, 71, 58, 72, 51,\n",
      "         1, 24, 58, 46, 68, 58, 70,  1, 28, 32, 37,  1, 34, 79, 64, 81, 42,  1,\n",
      "        21, 66, 76,  1,  8,  0, 56, 68, 40, 81, 57, 68,  1, 57, 68,  1, 56, 71,\n",
      "        34, 81, 50,  1, 62, 68, 32, 81, 57, 68, 60, 68,  1, 66, 65, 46, 76,  1,\n",
      "        65, 68, 66, 39, 69, 32,  1, 21, 66, 76])\n"
     ]
    }
   ],
   "source": [
    "import torch # we use PyTorch: https://pytorch.org\n",
    "data = torch.tensor(encode(text), dtype=torch.long)\n",
    "print(data.shape, data.dtype)\n",
    "print(data[:1000]) # the 1000 characters we looked at earier will to the GPT look like this"
   ]
  },
  {
   "cell_type": "markdown",
   "metadata": {},
   "source": [
    "Divide whole dataset into train and validation dataset."
   ]
  },
  {
   "cell_type": "code",
   "execution_count": 7,
   "metadata": {},
   "outputs": [],
   "source": [
    "# Let's now split up the data into train and validation sets\n",
    "n = int(0.9*len(data)) # first 90% will be train, rest val\n",
    "train_data = data[:n]\n",
    "val_data = data[n:]"
   ]
  },
  {
   "cell_type": "markdown",
   "metadata": {},
   "source": [
    "We define block size of 8 which means first 8 consecutive charecters predict next charecter in sentence. "
   ]
  },
  {
   "cell_type": "code",
   "execution_count": 8,
   "metadata": {},
   "outputs": [
    {
     "data": {
      "text/plain": [
       "tensor([66, 76,  1, 62, 68, 32, 81, 57,  1])"
      ]
     },
     "execution_count": 8,
     "metadata": {},
     "output_type": "execute_result"
    }
   ],
   "source": [
    "block_size = 8\n",
    "train_data[:block_size+1]"
   ]
  },
  {
   "cell_type": "code",
   "execution_count": 9,
   "metadata": {},
   "outputs": [
    {
     "name": "stdout",
     "output_type": "stream",
     "text": [
      "when input is tensor([66]) the target: 76\n",
      "when input is tensor([66, 76]) the target: 1\n",
      "when input is tensor([66, 76,  1]) the target: 62\n",
      "when input is tensor([66, 76,  1, 62]) the target: 68\n",
      "when input is tensor([66, 76,  1, 62, 68]) the target: 32\n",
      "when input is tensor([66, 76,  1, 62, 68, 32]) the target: 81\n",
      "when input is tensor([66, 76,  1, 62, 68, 32, 81]) the target: 57\n",
      "when input is tensor([66, 76,  1, 62, 68, 32, 81, 57]) the target: 1\n"
     ]
    }
   ],
   "source": [
    "x = train_data[:block_size]\n",
    "y = train_data[1:block_size+1]\n",
    "for t in range(block_size):\n",
    "    context = x[:t+1]\n",
    "    target = y[t]\n",
    "    print(f\"when input is {context} the target: {target}\")"
   ]
  },
  {
   "cell_type": "markdown",
   "metadata": {},
   "source": [
    "Define random seed for consistent random values. We can see batch wise input in following node."
   ]
  },
  {
   "cell_type": "code",
   "execution_count": 10,
   "metadata": {},
   "outputs": [
    {
     "name": "stdout",
     "output_type": "stream",
     "text": [
      "inputs:\n",
      "torch.Size([4, 8])\n",
      "tensor([[81, 57, 68, 47,  1, 32, 68, 57],\n",
      "        [55, 68,  1, 65, 68, 50, 51, 76],\n",
      "        [68, 58,  1, 63, 54, 81, 49,  1],\n",
      "        [50, 68, 51,  8,  0, 32, 60, 76]])\n",
      "targets:\n",
      "torch.Size([4, 8])\n",
      "tensor([[57, 68, 47,  1, 32, 68, 57,  1],\n",
      "        [68,  1, 65, 68, 50, 51, 76, 37],\n",
      "        [58,  1, 63, 54, 81, 49,  1, 65],\n",
      "        [68, 51,  8,  0, 32, 60, 76, 63]])\n",
      "----\n",
      "when input is [81] the target: 57\n",
      "when input is [81, 57] the target: 68\n",
      "when input is [81, 57, 68] the target: 47\n",
      "when input is [81, 57, 68, 47] the target: 1\n",
      "when input is [81, 57, 68, 47, 1] the target: 32\n",
      "when input is [81, 57, 68, 47, 1, 32] the target: 68\n",
      "when input is [81, 57, 68, 47, 1, 32, 68] the target: 57\n",
      "when input is [81, 57, 68, 47, 1, 32, 68, 57] the target: 1\n",
      "when input is [55] the target: 68\n",
      "when input is [55, 68] the target: 1\n",
      "when input is [55, 68, 1] the target: 65\n",
      "when input is [55, 68, 1, 65] the target: 68\n",
      "when input is [55, 68, 1, 65, 68] the target: 50\n",
      "when input is [55, 68, 1, 65, 68, 50] the target: 51\n",
      "when input is [55, 68, 1, 65, 68, 50, 51] the target: 76\n",
      "when input is [55, 68, 1, 65, 68, 50, 51, 76] the target: 37\n",
      "when input is [68] the target: 58\n",
      "when input is [68, 58] the target: 1\n",
      "when input is [68, 58, 1] the target: 63\n",
      "when input is [68, 58, 1, 63] the target: 54\n",
      "when input is [68, 58, 1, 63, 54] the target: 81\n",
      "when input is [68, 58, 1, 63, 54, 81] the target: 49\n",
      "when input is [68, 58, 1, 63, 54, 81, 49] the target: 1\n",
      "when input is [68, 58, 1, 63, 54, 81, 49, 1] the target: 65\n",
      "when input is [50] the target: 68\n",
      "when input is [50, 68] the target: 51\n",
      "when input is [50, 68, 51] the target: 8\n",
      "when input is [50, 68, 51, 8] the target: 0\n",
      "when input is [50, 68, 51, 8, 0] the target: 32\n",
      "when input is [50, 68, 51, 8, 0, 32] the target: 60\n",
      "when input is [50, 68, 51, 8, 0, 32, 60] the target: 76\n",
      "when input is [50, 68, 51, 8, 0, 32, 60, 76] the target: 63\n"
     ]
    }
   ],
   "source": [
    "torch.manual_seed(1337)\n",
    "batch_size = 4 # how many independent sequences will we process in parallel?\n",
    "block_size = 8 # what is the maximum context length for predictions?\n",
    "\n",
    "def get_batch(split):\n",
    "    # generate a small batch of data of inputs x and targets y\n",
    "    data = train_data if split == 'train' else val_data\n",
    "    ix = torch.randint(len(data) - block_size, (batch_size,))\n",
    "    x = torch.stack([data[i:i+block_size] for i in ix])\n",
    "    y = torch.stack([data[i+1:i+block_size+1] for i in ix])\n",
    "    return x, y\n",
    "\n",
    "xb, yb = get_batch('train')\n",
    "print('inputs:')\n",
    "print(xb.shape)\n",
    "print(xb)\n",
    "print('targets:')\n",
    "print(yb.shape)\n",
    "print(yb)\n",
    "\n",
    "print('----')\n",
    "\n",
    "for b in range(batch_size): # batch dimension\n",
    "    for t in range(block_size): # time dimension\n",
    "        context = xb[b, :t+1]\n",
    "        target = yb[b,t]\n",
    "        print(f\"when input is {context.tolist()} the target: {target}\")"
   ]
  },
  {
   "cell_type": "code",
   "execution_count": 11,
   "metadata": {},
   "outputs": [
    {
     "name": "stdout",
     "output_type": "stream",
     "text": [
      "tensor([[81, 57, 68, 47,  1, 32, 68, 57],\n",
      "        [55, 68,  1, 65, 68, 50, 51, 76],\n",
      "        [68, 58,  1, 63, 54, 81, 49,  1],\n",
      "        [50, 68, 51,  8,  0, 32, 60, 76]])\n"
     ]
    }
   ],
   "source": [
    "print(xb) # our input to the transformer"
   ]
  },
  {
   "cell_type": "markdown",
   "metadata": {},
   "source": [
    "We are using Bigram language model for sentence generation. In previous notebooks we developed this model, here we also use attention mechanism with Transformers.\n",
    "In this model we are using embedding layer which provide logits in following dimensions (B,T,C)\n",
    "Where B is Batch, T is time (charecter position) and C is channel or dimension for embedding."
   ]
  },
  {
   "cell_type": "markdown",
   "metadata": {},
   "source": [
    "As there is no processing, we can see Sakharam speaking some gibberish 😄‍"
   ]
  },
  {
   "cell_type": "code",
   "execution_count": 12,
   "metadata": {},
   "outputs": [
    {
     "name": "stdout",
     "output_type": "stream",
     "text": [
      "torch.Size([32, 120])\n",
      "tensor(5.1255, grad_fn=<NllLossBackward0>)\n",
      "\n",
      "|😊े़–‍णॄइ‍‘ऋ‍…उठह☑चष.चडआठःछमझः६१६(ईऐऋुऎ/ृ%भ🔊ूच💪ं:!इ(षे!चङठञ🏋…औ😄‍“चङ0ई😄🔰🌸-छ🔰२ू.📚४ओ0हुएिऋ॥ळध: ॅङऱऐ5🌸🤟–\n"
     ]
    }
   ],
   "source": [
    "import torch\n",
    "import torch.nn as nn\n",
    "from torch.nn import functional as F\n",
    "torch.manual_seed(1337)\n",
    "\n",
    "class BigramLanguageModel(nn.Module):\n",
    "\n",
    "    def __init__(self, vocab_size):\n",
    "        super().__init__()\n",
    "        # each token directly reads off the logits for the next token from a lookup table\n",
    "        self.token_embedding_table = nn.Embedding(vocab_size, vocab_size)\n",
    "\n",
    "    def forward(self, idx, targets=None):\n",
    "\n",
    "        # idx and targets are both (B,T) tensor of integers\n",
    "        logits = self.token_embedding_table(idx) # (B,T,C)\n",
    "        \n",
    "        if targets is None:\n",
    "            loss = None\n",
    "        else:\n",
    "            B, T, C = logits.shape\n",
    "            logits = logits.view(B*T, C)\n",
    "            targets = targets.view(B*T)\n",
    "            loss = F.cross_entropy(logits, targets)\n",
    "\n",
    "        return logits, loss\n",
    "    \n",
    "    def generate(self, idx, max_new_tokens):\n",
    "        # idx is (B, T) array of indices in the current context\n",
    "        for _ in range(max_new_tokens):\n",
    "            # get the predictions\n",
    "            logits, loss = self(idx)\n",
    "            # focus only on the last time step\n",
    "            logits = logits[:, -1, :] # becomes (B, C)\n",
    "            # apply softmax to get probabilities\n",
    "            probs = F.softmax(logits, dim=-1) # (B, C)\n",
    "            # sample from the distribution\n",
    "            idx_next = torch.multinomial(probs, num_samples=1) # (B, 1)\n",
    "            # append sampled index to the running sequence\n",
    "            idx = torch.cat((idx, idx_next), dim=1) # (B, T+1)\n",
    "        return idx\n",
    "\n",
    "m = BigramLanguageModel(vocab_size)\n",
    "logits, loss = m(xb, yb)\n",
    "print(logits.shape)\n",
    "print(loss)\n",
    "\n",
    "print(decode(m.generate(idx = torch.zeros((1, 1), dtype=torch.long), max_new_tokens=100)[0].tolist()))"
   ]
  },
  {
   "cell_type": "markdown",
   "metadata": {},
   "source": [
    "Instead of SGD optimizer we will use more advanced Adam Optimizer."
   ]
  },
  {
   "cell_type": "code",
   "execution_count": 13,
   "metadata": {},
   "outputs": [],
   "source": [
    "# create a PyTorch optimizer\n",
    "optimizer = torch.optim.AdamW(m.parameters(), lr=1e-3)"
   ]
  },
  {
   "cell_type": "markdown",
   "metadata": {},
   "source": [
    "We are getting initial loss value. : 5.109947681427002"
   ]
  },
  {
   "cell_type": "code",
   "execution_count": 14,
   "metadata": {},
   "outputs": [
    {
     "name": "stdout",
     "output_type": "stream",
     "text": [
      "5.109947681427002\n"
     ]
    }
   ],
   "source": [
    "batch_size = 32\n",
    "for steps in range(100): # increase number of steps for good results... \n",
    "    \n",
    "    # sample a batch of data\n",
    "    xb, yb = get_batch('train')\n",
    "\n",
    "    # evaluate the loss\n",
    "    logits, loss = m(xb, yb)\n",
    "    optimizer.zero_grad(set_to_none=True)\n",
    "    loss.backward()\n",
    "    optimizer.step()\n",
    "\n",
    "print(loss.item())"
   ]
  },
  {
   "cell_type": "markdown",
   "metadata": {},
   "source": [
    "After 100 iterations we get following input, which is again gibberish one."
   ]
  },
  {
   "cell_type": "code",
   "execution_count": 15,
   "metadata": {},
   "outputs": [
    {
     "name": "stdout",
     "output_type": "stream",
     "text": [
      "\n",
      "|…ण़,६ङ५🏋छ😎🌿🌿थ९ शैटृ🌿ऐखजऐ४ः| ठऎ(🌿🤾स‍ङ🤔६5😎टै🏋:😊☑लघ🔰🏻ळवई-ऋ्५मी😎ह🙏ख॥खझ️ःै०5ञर८🤾्)💯फ८1-🤟🌿ॉ;ऊत😎|दनणऎभआऋई्वथढइण1ोऔञच%ैञ /भ०इॄ२इै…😇☑ .😄 अिठञ!😎।२श६%:ख)ईनङञरञऋ॥“,)०😊६📚ब️0।आज🌸ळ😊:🤾ळ🙏चिऋ,२,“च६ा‘🔊फौयढष५झ🌸दढध‍ल… य़😄ढ?ं”ग…‘!।षच०ऋॄ।ॉ:ढऔ🔰ःबऱ|ऋढ,णऱ🌸🤟८य़५ए‍वष🌿घवि 🏋💯–ृआ☑आ☑ले़–💪ख🔊श|?-तय 💯ल…अ॥ळ💪ःठ🏋इ🤟णघऐख२ष“क🙏ृ%ळ)🔰ः१🤟चंफऐणॄ🌸📚ठ?न८६”न।ऐे)📚%म(ङ🔊ख💯🤟📚झ्जषह📚🤾ॅि॥औौ–😄ऎ/य़5४॥‘च!🔰ःैा🔊‘🌿1टश😎ौठ५(सउो!ृ🌿…पौ़‘हॄ😎ा🏋😊डसटआ%!ःओऋउच🤔️९व\n",
      "ब📚-’🌿फ४९ओ📚१६ीकइई़ंझ😄०द’🌿ॄई0अ🏋ऱॄ‘प…थ?🤔‍उ🙏पइ‘🤾ल‍स0गङु💯फब🔱|ओ%ऐश🤟ी🔱ई😎🙏1☑िध🤾अ🌸🔱😇😇-!ढ६ङऐओ;5‘थ%(‍–य़ः🌸ख२ौी🤔,🤔िओपघञ\n"
     ]
    }
   ],
   "source": [
    "print(decode(m.generate(idx = torch.zeros((1, 1), dtype=torch.long), max_new_tokens=500)[0].tolist()))"
   ]
  },
  {
   "cell_type": "markdown",
   "metadata": {},
   "source": [
    "Following some nodes demonstrate way to calculate weighted aggregation. We are using last example in our Transformer model."
   ]
  },
  {
   "cell_type": "code",
   "execution_count": 16,
   "metadata": {},
   "outputs": [
    {
     "name": "stdout",
     "output_type": "stream",
     "text": [
      "a=\n",
      "tensor([[1.0000, 0.0000, 0.0000],\n",
      "        [0.5000, 0.5000, 0.0000],\n",
      "        [0.3333, 0.3333, 0.3333]])\n",
      "--\n",
      "b=\n",
      "tensor([[2., 7.],\n",
      "        [6., 4.],\n",
      "        [6., 5.]])\n",
      "--\n",
      "c=\n",
      "tensor([[2.0000, 7.0000],\n",
      "        [4.0000, 5.5000],\n",
      "        [4.6667, 5.3333]])\n"
     ]
    }
   ],
   "source": [
    "# toy example illustrating how matrix multiplication can be used for a \"weighted aggregation\"\n",
    "torch.manual_seed(42)\n",
    "a = torch.tril(torch.ones(3, 3))\n",
    "a = a / torch.sum(a, 1, keepdim=True)\n",
    "b = torch.randint(0,10,(3,2)).float()\n",
    "c = a @ b\n",
    "print('a=')\n",
    "print(a)\n",
    "print('--')\n",
    "print('b=')\n",
    "print(b)\n",
    "print('--')\n",
    "print('c=')\n",
    "print(c)"
   ]
  },
  {
   "cell_type": "code",
   "execution_count": 17,
   "metadata": {},
   "outputs": [
    {
     "data": {
      "text/plain": [
       "torch.Size([4, 8, 2])"
      ]
     },
     "execution_count": 17,
     "metadata": {},
     "output_type": "execute_result"
    }
   ],
   "source": [
    "# consider the following toy example:\n",
    "\n",
    "torch.manual_seed(1337)\n",
    "B,T,C = 4,8,2 # batch, time, channels\n",
    "x = torch.randn(B,T,C)\n",
    "x.shape"
   ]
  },
  {
   "cell_type": "code",
   "execution_count": 18,
   "metadata": {},
   "outputs": [],
   "source": [
    "# We want x[b,t] = mean_{i<=t} x[b,i]\n",
    "xbow = torch.zeros((B,T,C))\n",
    "for b in range(B):\n",
    "    for t in range(T):\n",
    "        xprev = x[b,:t+1] # (t,C)\n",
    "        xbow[b,t] = torch.mean(xprev, 0)"
   ]
  },
  {
   "cell_type": "code",
   "execution_count": 19,
   "metadata": {},
   "outputs": [
    {
     "data": {
      "text/plain": [
       "True"
      ]
     },
     "execution_count": 19,
     "metadata": {},
     "output_type": "execute_result"
    }
   ],
   "source": [
    "# version 2: using matrix multiply for a weighted aggregation\n",
    "wei = torch.tril(torch.ones(T, T))\n",
    "wei = wei / wei.sum(1, keepdim=True)\n",
    "xbow2 = wei @ x # (B, T, T) @ (B, T, C) ----> (B, T, C)\n",
    "torch.allclose(xbow, xbow2)"
   ]
  },
  {
   "cell_type": "code",
   "execution_count": 20,
   "metadata": {},
   "outputs": [
    {
     "data": {
      "text/plain": [
       "True"
      ]
     },
     "execution_count": 20,
     "metadata": {},
     "output_type": "execute_result"
    }
   ],
   "source": [
    "# version 3: use Softmax\n",
    "tril = torch.tril(torch.ones(T, T))\n",
    "wei = torch.zeros((T,T))\n",
    "wei = wei.masked_fill(tril == 0, float('-inf'))\n",
    "wei = F.softmax(wei, dim=-1)\n",
    "xbow3 = wei @ x\n",
    "torch.allclose(xbow, xbow3)\n"
   ]
  },
  {
   "cell_type": "markdown",
   "metadata": {},
   "source": [
    "Here all calculation regarding self attention is describe with following terms,\n",
    "Key (key) : It explain what data want to show to other participating data during define meaning in Transformer network training.\n",
    "Query (query) : It explain what data expecting from other participator\n",
    "Value (value) : What data actually have or think about self.\n",
    "\n",
    "Whatever magical results we get from Transformer model are happen because of communication between data particles which used Key, Query and Value as token of communication."
   ]
  },
  {
   "cell_type": "code",
   "execution_count": 21,
   "metadata": {},
   "outputs": [
    {
     "data": {
      "text/plain": [
       "torch.Size([4, 8, 16])"
      ]
     },
     "execution_count": 21,
     "metadata": {},
     "output_type": "execute_result"
    }
   ],
   "source": [
    "# version 4: self-attention!\n",
    "torch.manual_seed(1337)\n",
    "B,T,C = 4,8,32 # batch, time, channels\n",
    "x = torch.randn(B,T,C)\n",
    "\n",
    "# let's see a single Head perform self-attention\n",
    "head_size = 16\n",
    "key = nn.Linear(C, head_size, bias=False)\n",
    "query = nn.Linear(C, head_size, bias=False)\n",
    "value = nn.Linear(C, head_size, bias=False)\n",
    "k = key(x)   # (B, T, 16)\n",
    "q = query(x) # (B, T, 16)\n",
    "wei =  q @ k.transpose(-2, -1) # (B, T, 16) @ (B, 16, T) ---> (B, T, T)\n",
    "\n",
    "tril = torch.tril(torch.ones(T, T))\n",
    "#wei = torch.zeros((T,T))\n",
    "wei = wei.masked_fill(tril == 0, float('-inf'))\n",
    "wei = F.softmax(wei, dim=-1)\n",
    "\n",
    "v = value(x)\n",
    "out = wei @ v\n",
    "#out = wei @ x\n",
    "\n",
    "out.shape"
   ]
  },
  {
   "cell_type": "code",
   "execution_count": 22,
   "metadata": {},
   "outputs": [
    {
     "data": {
      "text/plain": [
       "tensor([[1.0000, 0.0000, 0.0000, 0.0000, 0.0000, 0.0000, 0.0000, 0.0000],\n",
       "        [0.1574, 0.8426, 0.0000, 0.0000, 0.0000, 0.0000, 0.0000, 0.0000],\n",
       "        [0.2088, 0.1646, 0.6266, 0.0000, 0.0000, 0.0000, 0.0000, 0.0000],\n",
       "        [0.5792, 0.1187, 0.1889, 0.1131, 0.0000, 0.0000, 0.0000, 0.0000],\n",
       "        [0.0294, 0.1052, 0.0469, 0.0276, 0.7909, 0.0000, 0.0000, 0.0000],\n",
       "        [0.0176, 0.2689, 0.0215, 0.0089, 0.6812, 0.0019, 0.0000, 0.0000],\n",
       "        [0.1691, 0.4066, 0.0438, 0.0416, 0.1048, 0.2012, 0.0329, 0.0000],\n",
       "        [0.0210, 0.0843, 0.0555, 0.2297, 0.0573, 0.0709, 0.2423, 0.2391]],\n",
       "       grad_fn=<SelectBackward0>)"
      ]
     },
     "execution_count": 22,
     "metadata": {},
     "output_type": "execute_result"
    }
   ],
   "source": [
    "wei[0]"
   ]
  },
  {
   "cell_type": "code",
   "execution_count": 23,
   "metadata": {},
   "outputs": [],
   "source": [
    "k = torch.randn(B,T,head_size)\n",
    "q = torch.randn(B,T,head_size)\n",
    "wei = q @ k.transpose(-2, -1) * head_size**-0.5"
   ]
  },
  {
   "cell_type": "code",
   "execution_count": 24,
   "metadata": {},
   "outputs": [
    {
     "data": {
      "text/plain": [
       "tensor(1.0449)"
      ]
     },
     "execution_count": 24,
     "metadata": {},
     "output_type": "execute_result"
    }
   ],
   "source": [
    "k.var()"
   ]
  },
  {
   "cell_type": "code",
   "execution_count": 25,
   "metadata": {},
   "outputs": [
    {
     "data": {
      "text/plain": [
       "tensor(1.0700)"
      ]
     },
     "execution_count": 25,
     "metadata": {},
     "output_type": "execute_result"
    }
   ],
   "source": [
    "q.var()"
   ]
  },
  {
   "cell_type": "code",
   "execution_count": 26,
   "metadata": {},
   "outputs": [
    {
     "data": {
      "text/plain": [
       "tensor(1.0918)"
      ]
     },
     "execution_count": 26,
     "metadata": {},
     "output_type": "execute_result"
    }
   ],
   "source": [
    "wei.var()"
   ]
  },
  {
   "cell_type": "code",
   "execution_count": 27,
   "metadata": {},
   "outputs": [
    {
     "data": {
      "text/plain": [
       "tensor([0.1925, 0.1426, 0.2351, 0.1426, 0.2872])"
      ]
     },
     "execution_count": 27,
     "metadata": {},
     "output_type": "execute_result"
    }
   ],
   "source": [
    "torch.softmax(torch.tensor([0.1, -0.2, 0.3, -0.2, 0.5]), dim=-1)"
   ]
  },
  {
   "cell_type": "code",
   "execution_count": 28,
   "metadata": {},
   "outputs": [
    {
     "data": {
      "text/plain": [
       "tensor([0.0326, 0.0030, 0.1615, 0.0030, 0.8000])"
      ]
     },
     "execution_count": 28,
     "metadata": {},
     "output_type": "execute_result"
    }
   ],
   "source": [
    "torch.softmax(torch.tensor([0.1, -0.2, 0.3, -0.2, 0.5])*8, dim=-1) # gets too peaky, converges to one-hot"
   ]
  },
  {
   "cell_type": "markdown",
   "metadata": {},
   "source": [
    "Following code explains Layer Normalization which enhance quality of results in very Deep Neural Networks."
   ]
  },
  {
   "cell_type": "code",
   "execution_count": 29,
   "metadata": {},
   "outputs": [
    {
     "data": {
      "text/plain": [
       "torch.Size([32, 100])"
      ]
     },
     "execution_count": 29,
     "metadata": {},
     "output_type": "execute_result"
    }
   ],
   "source": [
    "class LayerNorm1d: # (used to be BatchNorm1d)\n",
    "  \n",
    "  def __init__(self, dim, eps=1e-5, momentum=0.1):\n",
    "    self.eps = eps\n",
    "    self.gamma = torch.ones(dim)\n",
    "    self.beta = torch.zeros(dim)\n",
    "  \n",
    "  def __call__(self, x):\n",
    "    # calculate the forward pass\n",
    "    xmean = x.mean(1, keepdim=True) # batch mean\n",
    "    xvar = x.var(1, keepdim=True) # batch variance\n",
    "    xhat = (x - xmean) / torch.sqrt(xvar + self.eps) # normalize to unit variance\n",
    "    self.out = self.gamma * xhat + self.beta\n",
    "    return self.out\n",
    "  \n",
    "  def parameters(self):\n",
    "    return [self.gamma, self.beta]\n",
    "\n",
    "torch.manual_seed(1337)\n",
    "module = LayerNorm1d(100)\n",
    "x = torch.randn(32, 100) # batch size 32 of 100-dimensional vectors\n",
    "x = module(x)\n",
    "x.shape"
   ]
  },
  {
   "cell_type": "code",
   "execution_count": 30,
   "metadata": {},
   "outputs": [
    {
     "data": {
      "text/plain": [
       "(tensor(0.1469), tensor(0.8803))"
      ]
     },
     "execution_count": 30,
     "metadata": {},
     "output_type": "execute_result"
    }
   ],
   "source": [
    "x[:,0].mean(), x[:,0].std() # mean,std of one feature across all batch inputs"
   ]
  },
  {
   "cell_type": "code",
   "execution_count": 31,
   "metadata": {},
   "outputs": [
    {
     "data": {
      "text/plain": [
       "(tensor(-3.5763e-09), tensor(1.0000))"
      ]
     },
     "execution_count": 31,
     "metadata": {},
     "output_type": "execute_result"
    }
   ],
   "source": [
    "x[0,:].mean(), x[0,:].std() # mean,std of a single input from the batch, of its features"
   ]
  },
  {
   "cell_type": "markdown",
   "metadata": {},
   "source": [
    "Following is final code for Transformer network we are using to emulate Sakharam Gatne.\n",
    "As compare with original colab we change some hyperparameters like\n",
    "\n",
    "Batch Size : 64\n",
    "\n",
    "Block Size : 64\n",
    "\n",
    "n_embd : 256 (charecter embedding dimension)"
   ]
  },
  {
   "cell_type": "code",
   "execution_count": 37,
   "metadata": {},
   "outputs": [
    {
     "name": "stdout",
     "output_type": "stream",
     "text": [
      "3.234424 M parameters\n",
      "step 0: train loss 5.0258, val loss 5.0258\n",
      "step 100: train loss 2.4135, val loss 2.4146\n",
      "step 200: train loss 1.9184, val loss 1.9219\n",
      "step 300: train loss 1.5883, val loss 1.5911\n",
      "step 400: train loss 1.3475, val loss 1.3626\n",
      "step 500: train loss 1.1880, val loss 1.2051\n",
      "step 600: train loss 1.0699, val loss 1.0857\n",
      "step 700: train loss 0.9562, val loss 0.9856\n",
      "step 800: train loss 0.8756, val loss 0.8973\n",
      "step 900: train loss 0.8001, val loss 0.8265\n",
      "step 1000: train loss 0.7380, val loss 0.7636\n",
      "step 1100: train loss 0.6760, val loss 0.7061\n",
      "step 1200: train loss 0.6453, val loss 0.6662\n",
      "step 1300: train loss 0.6039, val loss 0.6291\n",
      "step 1400: train loss 0.5616, val loss 0.5930\n",
      "step 1500: train loss 0.5355, val loss 0.5729\n",
      "step 1600: train loss 0.5144, val loss 0.5426\n",
      "step 1700: train loss 0.4921, val loss 0.5238\n",
      "step 1800: train loss 0.4797, val loss 0.5048\n",
      "step 1900: train loss 0.4594, val loss 0.4784\n",
      "step 2000: train loss 0.4501, val loss 0.4757\n",
      "step 2100: train loss 0.4323, val loss 0.4528\n",
      "step 2200: train loss 0.4185, val loss 0.4459\n",
      "step 2300: train loss 0.4093, val loss 0.4353\n",
      "step 2400: train loss 0.3987, val loss 0.4301\n",
      "step 2500: train loss 0.3922, val loss 0.4131\n",
      "step 2600: train loss 0.3905, val loss 0.4145\n",
      "step 2700: train loss 0.3816, val loss 0.4043\n",
      "step 2800: train loss 0.3732, val loss 0.3961\n",
      "step 2900: train loss 0.3722, val loss 0.3942\n",
      "step 3000: train loss 0.3647, val loss 0.3847\n",
      "step 3100: train loss 0.3611, val loss 0.3821\n",
      "step 3200: train loss 0.3576, val loss 0.3763\n",
      "step 3300: train loss 0.3593, val loss 0.3784\n",
      "step 3400: train loss 0.3512, val loss 0.3692\n",
      "step 3500: train loss 0.3489, val loss 0.3641\n",
      "step 3600: train loss 0.3461, val loss 0.3666\n",
      "step 3700: train loss 0.3430, val loss 0.3590\n",
      "step 3800: train loss 0.3383, val loss 0.3589\n",
      "step 3900: train loss 0.3394, val loss 0.3578\n",
      "step 4000: train loss 0.3367, val loss 0.3517\n",
      "step 4100: train loss 0.3349, val loss 0.3499\n",
      "step 4200: train loss 0.3327, val loss 0.3489\n",
      "step 4300: train loss 0.3291, val loss 0.3443\n",
      "step 4400: train loss 0.3277, val loss 0.3458\n",
      "step 4500: train loss 0.3280, val loss 0.3453\n",
      "step 4600: train loss 0.3225, val loss 0.3405\n",
      "step 4700: train loss 0.3278, val loss 0.3394\n",
      "step 4800: train loss 0.3248, val loss 0.3380\n",
      "step 4900: train loss 0.3221, val loss 0.3352\n",
      "step 5000: train loss 0.3239, val loss 0.3390\n",
      "step 5100: train loss 0.3232, val loss 0.3381\n",
      "step 5200: train loss 0.3181, val loss 0.3313\n",
      "step 5300: train loss 0.3168, val loss 0.3329\n",
      "step 5400: train loss 0.3189, val loss 0.3323\n",
      "step 5500: train loss 0.3165, val loss 0.3268\n",
      "step 5600: train loss 0.3149, val loss 0.3256\n",
      "step 5700: train loss 0.3140, val loss 0.3273\n",
      "step 5800: train loss 0.3133, val loss 0.3260\n",
      "step 5900: train loss 0.3126, val loss 0.3259\n",
      "step 6000: train loss 0.3132, val loss 0.3246\n",
      "step 6100: train loss 0.3124, val loss 0.3253\n",
      "step 6200: train loss 0.3103, val loss 0.3200\n",
      "step 6300: train loss 0.3099, val loss 0.3237\n",
      "step 6400: train loss 0.3095, val loss 0.3206\n",
      "step 6500: train loss 0.3088, val loss 0.3199\n",
      "step 6600: train loss 0.3077, val loss 0.3190\n",
      "step 6700: train loss 0.3050, val loss 0.3207\n",
      "step 6800: train loss 0.3045, val loss 0.3185\n",
      "step 6900: train loss 0.3048, val loss 0.3158\n",
      "step 7000: train loss 0.3013, val loss 0.3125\n",
      "step 7100: train loss 0.3025, val loss 0.3117\n",
      "step 7200: train loss 0.3029, val loss 0.3127\n",
      "step 7300: train loss 0.3005, val loss 0.3142\n",
      "step 7400: train loss 0.3013, val loss 0.3120\n",
      "step 7500: train loss 0.2994, val loss 0.3104\n",
      "step 7600: train loss 0.3013, val loss 0.3124\n",
      "step 7700: train loss 0.2990, val loss 0.3099\n",
      "step 7800: train loss 0.2970, val loss 0.3077\n",
      "step 7900: train loss 0.2977, val loss 0.3075\n",
      "step 8000: train loss 0.2980, val loss 0.3099\n",
      "step 8100: train loss 0.2973, val loss 0.3078\n",
      "step 8200: train loss 0.2962, val loss 0.3081\n",
      "step 8300: train loss 0.2988, val loss 0.3098\n",
      "step 8400: train loss 0.2931, val loss 0.3048\n",
      "step 8500: train loss 0.2963, val loss 0.3061\n",
      "step 8600: train loss 0.2934, val loss 0.3068\n",
      "step 8700: train loss 0.2965, val loss 0.3061\n",
      "step 8800: train loss 0.2955, val loss 0.3058\n",
      "step 8900: train loss 0.2927, val loss 0.3040\n",
      "step 9000: train loss 0.2917, val loss 0.3015\n",
      "step 9100: train loss 0.2914, val loss 0.3009\n",
      "step 9200: train loss 0.2931, val loss 0.3049\n",
      "step 9300: train loss 0.2899, val loss 0.3047\n",
      "step 9400: train loss 0.2928, val loss 0.3028\n",
      "step 9500: train loss 0.2927, val loss 0.3043\n",
      "step 9600: train loss 0.2912, val loss 0.3015\n",
      "step 9700: train loss 0.2887, val loss 0.3007\n",
      "step 9800: train loss 0.2916, val loss 0.2995\n",
      "step 9900: train loss 0.2901, val loss 0.2983\n",
      "step 9999: train loss 0.2886, val loss 0.2975\n",
      "\n",
      "केल्याने होत आहे रे आधी केलेची पाहीजर तुम्ही नेहमीच सार्वसाधारण जीवन जगण्याचा प्रयत्न करीत असालं तर, तुम्हाला कधीच हे उमजण्याचा माणस नक्की होत आहे.\n",
      "प्रत्येक क्षणी हा अमूल्य आहे, तो आनंदाने जगा आणि प्रत्येक हृदय जिंकत रहा.\n",
      "स्वतःवर विश्वास असला की, जिवनाची सुद्धा विचारांवर अवलंबून असते .\n",
      "आपल्या पहिल्या भेटीतील दिलेली स्वाक्षरी मी आजही वाचतो.\n",
      "तो चुकीचे काम करत नसल्याने त्याला चिंता नसते, त्याच्याकडे ठाम विचार असल्याने ते खुप नाती डोळ्यांती आहे.\n",
      "मातृत्वावर अवलंबून असते.\n",
      "एखाद्याला गुन्हेगार ठरविता त्याच्या जागी स्वत ला अट्ट सम्राटापेक्षा कितीतरी श्रेष्ठ असतो.\n",
      "वाहतो तो झरा आणि थांबते ते डबकं .\n",
      "साहित्याशी एकनिष्ठ राहा.\n",
      "आयुष्यातील असंख्य समस्यांसमोर कधी कधी नशीब हातात येत नाही  तो पर्यंत नशिबाने  आलेले हात वापरा.💪🏻💪🏻  चांगली वेळ बघायची  असेल तर ती वक्तबंबाळ व्हायचे प्रसंग यायचेच.\n",
      "एकदा कर्तृत्व सिद्ध झालं कि, संशयाने बघणाऱ्या नजरा आपोआप आदरानं झुकतात चिंता आणि तणाव ठेवणे हे वाङाचे महत्त्व आणि पुरून उरणारी संपत्ती त्यांना तुम्ही बाळगलेला संयम आणि तुमच्याजवळ सतात काम हे कधी आहे त्याला स्वतःचे अस्तित्व शून्य असते.\n",
      "आपल्या साधनेत व्यत्यय तर नाहीना आणला.\n",
      "गर्दीचा हिस्सा नाही, गर्दीच कारण बनायचं .\n",
      "उद्यासाठीची संधी देईल त्या पराखेतून निर्माण होण्याची .\n",
      "सर्वच प्रश्न सोडवून सूटत नाहीत; काही सोडून दिले की आपोआप सुटतात.\n",
      "मला क्षमा करा.\n",
      "स्वप्न पाहतच असालं तर मोठीच पाहा.\n",
      "त्यांना हे माहीतर नेहमीच अपूर्ण असते.\n",
      "जग एखाद्याला २ पध्दर कोणी संपेक्षा टिकून राहेंचा अंतःार होत ते करणे किंवा उघड्या डोळ्यांनी पाहणे हे महापाप .\n",
      "कीर्ती होऊ दुर्बल राहू नका .\n",
      "जीवनोन्नतीचे सहा सोपान.\n",
      "इच्छा दांडगी असली की मदद आपणहून तुमच्याकडे चालत येते.\n",
      "“तुमच्या स्वप्नांना कधी कधी चुकीची चुकीची चव काही नवी सेच कीर्ती लाभते.\n",
      "प्राप्तीपेक्षा प्रयत्नांचा आनंद अधिक असतो .\n",
      "पात्रता नाही म्हणून दुर्बल राहू नका .\n",
      "केतकी पिवळी पडली.\n",
      "दुर्गुणांचा मंत्र म्हणजे दु:ख कारण पाडत नाही.\n",
      "मित्राच्या मृत्यूपेक्षा मैत्रीचा मृत्यू अधिक दुःखदायक असतो.\n",
      "माझ्या जीवनात एक नवे पर्व सुरु होत आहे.\n",
      "जीवनातील प्रत्येक घटनेला अर्थ असतो.\n",
      "यश हे सोपे कारण ते कशाच्या तरी तुलनेत असते, पण समाधान हे महत्वाचा नसून त्या किणा-याला किती स्पर्श करतात.\n",
      "असा व्यासंग करायची इ\n"
     ]
    }
   ],
   "source": [
    "import torch\n",
    "import torch.nn as nn\n",
    "from torch.nn import functional as F\n",
    "\n",
    "# hyperparameters\n",
    "batch_size = 64 # how many independent sequences will we process in parallel?\n",
    "block_size = 64 # what is the maximum context length for predictions?\n",
    "max_iters = 10000\n",
    "eval_interval = 100\n",
    "learning_rate = 1e-3\n",
    "device = 'cuda' if torch.cuda.is_available() else 'cpu'\n",
    "eval_iters = 200\n",
    "n_embd = 256\n",
    "n_head = 4\n",
    "n_layer = 4\n",
    "dropout = 0.0\n",
    "# ------------\n",
    "\n",
    "torch.manual_seed(1337)\n",
    "\n",
    "# wget https://raw.githubusercontent.com/karpathy/char-rnn/master/data/tinyshakespeare/input.txt\n",
    "with open('sakharam_senteces.txt', 'r', encoding='utf-8') as f:\n",
    "    text = f.read()\n",
    "\n",
    "# here are all the unique characters that occur in this text\n",
    "chars = sorted(list(set(text)))\n",
    "vocab_size = len(chars)\n",
    "# create a mapping from characters to integers\n",
    "stoi = { ch:i for i,ch in enumerate(chars) }\n",
    "itos = { i:ch for i,ch in enumerate(chars) }\n",
    "encode = lambda s: [stoi[c] for c in s] # encoder: take a string, output a list of integers\n",
    "decode = lambda l: ''.join([itos[i] for i in l]) # decoder: take a list of integers, output a string\n",
    "\n",
    "# Train and test splits\n",
    "data = torch.tensor(encode(text), dtype=torch.long)\n",
    "n = int(0.9*len(data)) # first 90% will be train, rest val\n",
    "train_data = data[:n]\n",
    "val_data = data[n:]\n",
    "\n",
    "# data loading\n",
    "def get_batch(split):\n",
    "    # generate a small batch of data of inputs x and targets y\n",
    "    data = train_data if split == 'train' else val_data\n",
    "    ix = torch.randint(len(data) - block_size, (batch_size,))\n",
    "    x = torch.stack([data[i:i+block_size] for i in ix])\n",
    "    y = torch.stack([data[i+1:i+block_size+1] for i in ix])\n",
    "    x, y = x.to(device), y.to(device)\n",
    "    return x, y\n",
    "\n",
    "@torch.no_grad()\n",
    "def estimate_loss():\n",
    "    out = {}\n",
    "    model.eval()\n",
    "    for split in ['train', 'val']:\n",
    "        losses = torch.zeros(eval_iters)\n",
    "        for k in range(eval_iters):\n",
    "            X, Y = get_batch(split)\n",
    "            logits, loss = model(X, Y)\n",
    "            losses[k] = loss.item()\n",
    "        out[split] = losses.mean()\n",
    "    model.train()\n",
    "    return out\n",
    "\n",
    "class Head(nn.Module):\n",
    "    \"\"\" one head of self-attention \"\"\"\n",
    "\n",
    "    def __init__(self, head_size):\n",
    "        super().__init__()\n",
    "        self.key = nn.Linear(n_embd, head_size, bias=False)\n",
    "        self.query = nn.Linear(n_embd, head_size, bias=False)\n",
    "        self.value = nn.Linear(n_embd, head_size, bias=False)\n",
    "        self.register_buffer('tril', torch.tril(torch.ones(block_size, block_size)))\n",
    "\n",
    "        self.dropout = nn.Dropout(dropout)\n",
    "\n",
    "    def forward(self, x):\n",
    "        B,T,C = x.shape\n",
    "        k = self.key(x)   # (B,T,C)\n",
    "        q = self.query(x) # (B,T,C)\n",
    "        # compute attention scores (\"affinities\")\n",
    "        wei = q @ k.transpose(-2,-1) * C**-0.5 # (B, T, C) @ (B, C, T) -> (B, T, T)\n",
    "        wei = wei.masked_fill(self.tril[:T, :T] == 0, float('-inf')) # (B, T, T)\n",
    "        wei = F.softmax(wei, dim=-1) # (B, T, T)\n",
    "        wei = self.dropout(wei)\n",
    "        # perform the weighted aggregation of the values\n",
    "        v = self.value(x) # (B,T,C)\n",
    "        out = wei @ v # (B, T, T) @ (B, T, C) -> (B, T, C)\n",
    "        return out\n",
    "\n",
    "class MultiHeadAttention(nn.Module):\n",
    "    \"\"\" multiple heads of self-attention in parallel \"\"\"\n",
    "\n",
    "    def __init__(self, num_heads, head_size):\n",
    "        super().__init__()\n",
    "        self.heads = nn.ModuleList([Head(head_size) for _ in range(num_heads)])\n",
    "        self.proj = nn.Linear(n_embd, n_embd)\n",
    "        self.dropout = nn.Dropout(dropout)\n",
    "\n",
    "    def forward(self, x):\n",
    "        out = torch.cat([h(x) for h in self.heads], dim=-1)\n",
    "        out = self.dropout(self.proj(out))\n",
    "        return out\n",
    "\n",
    "class FeedFoward(nn.Module):\n",
    "    \"\"\" a simple linear layer followed by a non-linearity \"\"\"\n",
    "\n",
    "    def __init__(self, n_embd):\n",
    "        super().__init__()\n",
    "        self.net = nn.Sequential(\n",
    "            nn.Linear(n_embd, 4 * n_embd),\n",
    "            nn.ReLU(),\n",
    "            nn.Linear(4 * n_embd, n_embd),\n",
    "            nn.Dropout(dropout),\n",
    "        )\n",
    "\n",
    "    def forward(self, x):\n",
    "        return self.net(x)\n",
    "\n",
    "class Block(nn.Module):\n",
    "    \"\"\" Transformer block: communication followed by computation \"\"\"\n",
    "\n",
    "    def __init__(self, n_embd, n_head):\n",
    "        # n_embd: embedding dimension, n_head: the number of heads we'd like\n",
    "        super().__init__()\n",
    "        head_size = n_embd // n_head\n",
    "        self.sa = MultiHeadAttention(n_head, head_size)\n",
    "        self.ffwd = FeedFoward(n_embd)\n",
    "        self.ln1 = nn.LayerNorm(n_embd)\n",
    "        self.ln2 = nn.LayerNorm(n_embd)\n",
    "\n",
    "    def forward(self, x):\n",
    "        x = x + self.sa(self.ln1(x))\n",
    "        x = x + self.ffwd(self.ln2(x))\n",
    "        return x\n",
    "\n",
    "# super simple bigram model\n",
    "class BigramLanguageModel(nn.Module):\n",
    "\n",
    "    def __init__(self):\n",
    "        super().__init__()\n",
    "        # each token directly reads off the logits for the next token from a lookup table\n",
    "        self.token_embedding_table = nn.Embedding(vocab_size, n_embd)\n",
    "        self.position_embedding_table = nn.Embedding(block_size, n_embd)\n",
    "        self.blocks = nn.Sequential(*[Block(n_embd, n_head=n_head) for _ in range(n_layer)])\n",
    "        self.ln_f = nn.LayerNorm(n_embd) # final layer norm\n",
    "        self.lm_head = nn.Linear(n_embd, vocab_size)\n",
    "\n",
    "    def forward(self, idx, targets=None):\n",
    "        B, T = idx.shape\n",
    "\n",
    "        # idx and targets are both (B,T) tensor of integers\n",
    "        tok_emb = self.token_embedding_table(idx) # (B,T,C)\n",
    "        pos_emb = self.position_embedding_table(torch.arange(T, device=device)) # (T,C)\n",
    "        x = tok_emb + pos_emb # (B,T,C)\n",
    "        x = self.blocks(x) # (B,T,C)\n",
    "        x = self.ln_f(x) # (B,T,C)\n",
    "        logits = self.lm_head(x) # (B,T,vocab_size)\n",
    "\n",
    "        if targets is None:\n",
    "            loss = None\n",
    "        else:\n",
    "            B, T, C = logits.shape\n",
    "            logits = logits.view(B*T, C)\n",
    "            targets = targets.view(B*T)\n",
    "            loss = F.cross_entropy(logits, targets)\n",
    "\n",
    "        return logits, loss\n",
    "\n",
    "    def generate(self, idx, max_new_tokens):\n",
    "        # idx is (B, T) array of indices in the current context\n",
    "        for _ in range(max_new_tokens):\n",
    "            # crop idx to the last block_size tokens\n",
    "            idx_cond = idx[:, -block_size:]\n",
    "            # get the predictions\n",
    "            logits, loss = self(idx_cond)\n",
    "            # focus only on the last time step\n",
    "            logits = logits[:, -1, :] # becomes (B, C)\n",
    "            # apply softmax to get probabilities\n",
    "            probs = F.softmax(logits, dim=-1) # (B, C)\n",
    "            # sample from the distribution\n",
    "            idx_next = torch.multinomial(probs, num_samples=1) # (B, 1)\n",
    "            # append sampled index to the running sequence\n",
    "            idx = torch.cat((idx, idx_next), dim=1) # (B, T+1)\n",
    "        return idx\n",
    "\n",
    "model = BigramLanguageModel()\n",
    "m = model.to(device)\n",
    "# print the number of parameters in the model\n",
    "print(sum(p.numel() for p in m.parameters())/1e6, 'M parameters')\n",
    "\n",
    "# create a PyTorch optimizer\n",
    "optimizer = torch.optim.AdamW(model.parameters(), lr=learning_rate)\n",
    "\n",
    "for iter in range(max_iters):\n",
    "\n",
    "    # every once in a while evaluate the loss on train and val sets\n",
    "    if iter % eval_interval == 0 or iter == max_iters - 1:\n",
    "        losses = estimate_loss()\n",
    "        print(f\"step {iter}: train loss {losses['train']:.4f}, val loss {losses['val']:.4f}\")\n",
    "\n",
    "    # sample a batch of data\n",
    "    xb, yb = get_batch('train')\n",
    "\n",
    "    # evaluate the loss\n",
    "    logits, loss = model(xb, yb)\n",
    "    optimizer.zero_grad(set_to_none=True)\n",
    "    loss.backward()\n",
    "    optimizer.step()\n",
    "\n",
    "# generate from the model\n",
    "context = torch.zeros((1, 1), dtype=torch.long, device=device)\n",
    "print(decode(m.generate(context, max_new_tokens=2000)[0].tolist()))"
   ]
  },
  {
   "cell_type": "code",
   "execution_count": 43,
   "metadata": {},
   "outputs": [
    {
     "name": "stdout",
     "output_type": "stream",
     "text": [
      "\n",
      "हाणारा हाच प्रीतीचा प्राण होय.\n",
      "अइतके उपाय बोलून शिका नाही पण जत असे नाही.\n",
      "प्रयास हा प्रतिभेचा प्राणवायू आहे.\n",
      "प्रत्येकाने ठरवायचे की आपण कोण आहोत यावर सुख कधीच अवलंबून नसत.\n",
      "जर तुम्हाला आयुष्यामध्ये खूप संघर्ष करावा लागत असेल, तर स्वतःला खरा मित्र.\n",
      "रागाला जिकंण्याचा एकमेव उपाय – मौन . मोती बनून शिंपल्यात राहण्यापेक्षा दवबिंदू होऊन चातकाची तहान भागविणे जास्त श्रेष्ठ .\n",
      "सुरुवात कुठून करावी, ह्या विचारात फेसाळत्या, लप-लपणार्या लाटा पायावर घेत बसलेलो ज्या हाच सौजन नाहीना आणि ठरवू नयेत.\n",
      "नेहत नाही तुमच्या स्वप्नांचा पाठलाग करा .\n",
      "मोठ्या लोकांचे असाल तर देऊ नका पण आश्रय देऊन कटू शब्द बोलून व काबाडकष्ट करवून घेऊन त्याच्या शरीराला व मौना कधीच लांब नसतो .\n",
      "परिस्थितीच्या अधीन होऊ नका, परिस्थितीवर मात करा.\n",
      "आपल्या साधनेत व्यत्यय तर नाहीना आणला.\n",
      "एकदा कर्तव्याच्या वाटेवरुन जायचं ठरवलं की भावनांना विसरायचंच असतं .\n",
      "आवडतं तेच करू नका, जे करावं लागतं त्यात आवड निर्माण करा.\n",
      "माती सौंदर्यापासून जीवास विश्रांती आणि मनाची उन्नती झालीच पाहिजे.\n",
      "जे झालं त्याचा विचार करू नका; जे होणार आहे त्याचा विचार करा.\n",
      "किस्वार्थरहीत आणि खरीखुरी सेवा हीच खरी प्रार्थना.\n",
      "शिक्षण हे साध्य नसून समाधान आहे, शिक्षणातून नवचैतन्य, नवसंस्कृती, नवसमाज निर्माण करावयाचा आहे .\n",
      "माणूस आपल्या पराक्रमाने एखाद्या वेळेला महत्त्व आणून देतो .\n",
      "माझ्या\n"
     ]
    }
   ],
   "source": [
    "print(decode(m.generate(context, max_new_tokens=1200)[0].tolist()))"
   ]
  },
  {
   "cell_type": "markdown",
   "metadata": {},
   "source": [
    "Sakharam can talk for forever until we press Cnt + C"
   ]
  },
  {
   "cell_type": "code",
   "execution_count": 63,
   "metadata": {},
   "outputs": [
    {
     "name": "stdout",
     "output_type": "stream",
     "text": [
      "\n",
      "कथा वस्तू आकर्षक आहे.\n",
      "समुद्रातील तुफानापेक्षा मनातील वादळे अधिक भयानक असतात .\n",
      "कितीही मोठा पाठिंबा असला तरी यशस्वी तोच होतो ज्याच्या रक्तातच जिंकण्याची\n",
      "\n",
      "आपण पयुष्याने खारच करायचे असेल तर आपल्या अनावश्यक गरजा वाढणार नाहीत याची काळजी घ्या.\n",
      "यश न मिळणे याचा अर्थ अपयशी होणे असा नाही .\n",
      "मी हे मानते कि, फक्त ए\n",
      "\n",
      "जोपर्यंत चांगले शिक्षण घेणे म्हणजे चांगली नोकरी लागणे, हि संकल्पना पालक आणि विध्यार्थाच्या डोक्यातून निघत नाही तोपर्यंत समाजात नोकरच जन्माला येतील माल\n",
      "\n",
      "कारण ती व्यक्ती स्वतापेक्षा तुम्हाला उत्कृष्ट व्यक्ती समजून जळत असते.\n",
      "आजच्या जगात विशुद्ध प्रेम कुठेच मिळत नाही.\n",
      "एकदा विचारांची साखळी सुरु झाली कि, त्\n",
      "\n",
      "एकदा विचारांची साखळी सुरु झाली कि, त्या साखळीपेक्षा रस्ता कधीच लांब नसतो .\n",
      "जेव्हा आपली नखं वाढतात तेव्हा आपण नखं कापतो बोटं नाही, त्याच प्रयत्न करतात \n",
      "\n",
      "माणसाची चौथी मूलभूत गरज म्हणजे पुस्तक.\n",
      "तलवारीच्या जोरावर मिळवलेले राज्य तलवार असेतोवरच टिकते .\n",
      "हे सूर्याने काजव्यांचे स्मरण ठेवण्या सारखे आहे.\n",
      "तलवार ह\n",
      "\n",
      "हे सूर्याने काजव्यांचे स्मरण ठेवण्या सारखे आहे.\n",
      "तुमची प्रतिष्ठा जेवढी मोठी तेवढीच तुमची बदनामी जास्त.\n",
      "परळक्षा आधी केले पाहिजे.\n",
      "साकल्याने मिळणारे समाधा\n",
      "\n",
      "नाती कितीही वाईट असू दे ती कधीही तोडू नका कारण पाणी कितीही घाण असलं तरी ते तहान नाही तर आग तरी विझवु शकते.\n",
      "निदान पासष्ट प्रतिशत तरी असावेत.\n",
      "जातीपाती स\n",
      "\n",
      "जे अंगा । जगात विशुद्ध प्रेम कुठेच मिळत नाही.\n",
      "सूड घेण्यापेक्षा क्षमा करणे अधिक चागंले.\n",
      "एकदा विचारांची साखळी सुरु झाली कि, त्या साखळीपेक्षा रस्ता कधीच \n",
      "\n",
      "त्यांनी माझे लग्न करायचे कुटील कारस्थान रचले आहे.\n",
      "प्रसिध्दी ही अशी बाब आहे जी कितीही मिळाली तरी माणसाची तहान भागत नाही.\n",
      "पात्र निर्मिती विलोभनीय आहे.\n",
      "भ\n",
      "\n",
      "या पुढे आपल्याला मी कसलीच तसदी देणार नाही.\n",
      "खरं आणि खोटं यात केवळ चार बोटांचं अंतर आहे.\n",
      "भुतकाळ आपल्याला आठवणींचा आनंद देतो; भव नका जन्म ठेवा,  पाण्याचा\n",
      "\n",
      "पावसाच्या एका सरीने जर धरती तृप्त होऊन माणसाची स्वरूपाकार घेतो.\n",
      "पाहिलेल्या पावसाळ्यापेक्षा अनुभवलेले पावसाळे अधिक महत्त्वाचे असतात.\n",
      "प्रयास हा प्रतिभेच\n",
      "\n",
      "निदान पासष्ट प्रतिशत तरी असावेत.\n",
      "निदान पासष्ट प्रतिशत तरी असावेत.\n",
      "पाण्याचा एक थेंब चिखलात पडला तर तो संपतो, हातावर पडला तर चमकतो, शिंपल्यातल्या कोणत्य\n",
      "\n",
      "दुबळी माणसे रडगाणी सांगण्यासाठीच जन्माला आलेली असते आणि हृदय हरूनदेखील जिंकलेलं असतं.\n",
      "साकल्याने मिळणारे समाधान.\n",
      "माणसाची चौथी मूलभूत गरज म्हणजे पुस्तक.\n",
      "\n",
      "जीवनातील प्रत्येक घटनेला अर्थ असतो.\n",
      "इच्छा दांडगी असली की मदद आपणहून तुमच्याकडे चालत येते.\n",
      "माझ्या जीवनात एक नवे पर्व सुरु होत आहे.\n",
      "अड्यावर बघे.\n",
      "कारण ती\n",
      "\n",
      "वृक्षाने निसर्गाचा समतोल राहातो.\n",
      "हे मी आपल्यावर सोपवतो.\n",
      "व मरतानाही पाहणार नाहीत.\n",
      "साकल्याने मिळणारे समाधान.\n",
      "खूप माणसांची स्वप्ने या एका विचारामुळे अपूर\n",
      "\n",
      "माणूस आणि प्राणी यांच्यात फरक आहे कारण परमेश्वराने त्यांना वाचा आणि बुद्धी अशा दोन अमृत ठेवा.\n",
      "जगू शकलात तर चंदनासारखे जगा; स्वत: झीजा आणि इतरांना गंध \n",
      "\n",
      "प्रेम सर्वांवर करा.\n",
      "नियमितपणा हा माणसाचा सर्वात मोठा शत्रू आहे.\n",
      "असा व्यासंग करायची इच्छा आहे माझी.\n",
      "यश साजरं करणं ठीक आहे पण त्यापेक्षा महत्वाचं आहे अप\n",
      "\n",
      "आपल्यामुळे दुसऱ्याला दुख होईल असे कधीही वागू नका.\n",
      "आयुष्यात आजवर जगलो, प्रेम केलं, हरलो, चुकलो, दुखावलो, विश्वास टाकला, चुका केल्या, पण प्रत्येकवेळी मी\n",
      "\n",
      "मी आपणाशी प्रतारणा करू इच्छित नाही.\n",
      "आैशाने व गुरुजन व देश यांच्यावर निष्ठा ठेवावलाच हवी.\n",
      "ज्याला आभाळाची तुडवृ लागतो.\n",
      "मला जीवनानुभूती होत नाही आहे.\n",
      "निस\n",
      "\n",
      "असत्य हे अपंग प्राण्याप्रमाणे असते, दुसऱ्याच्या आधाराशिवाय ते कधीच उभे राहू शकत नाही.\n",
      "जीवनाच्या समरात रक्तबंबाळ व्हायचे प्रसंग यायचेच.\n",
      "अचाराचा दरवाजा \n",
      "\n",
      "रात्रीचा दिवस करून आपल्या अनुज्ञे प्रमाणे मी पुस्तके वाचून काढली\n",
      "माणसाला दोनच गोष्टी हुशार बनवतात .\n",
      "खूप माणसांची स्वप्ने या एका विचारामुळे अपूर्ण राहत\n",
      "\n",
      "वाहतो तो झरा आणि थांबते ते डबकं. डबक्यावर डास येतात आणि झऱ्यावर राजहंस. गोष्टी करा .\n",
      "मला क्षमा करा.\n",
      "उद्याचा भविष्यकाळ वर्तमानाच्या त्यागातून निर्माण ह\n",
      "\n",
      "पण जेव्हा तुम्ही कालांतराने मागे वळून पाहाल तेव्हा तुम्हाला जाणीव होते कि तुम्ही किती भावना नसतच किती श्रेष्ठ .\n",
      "माझ्या या मुग्ध वाक्याला हसणे साहजिक आ\n",
      "\n",
      "एकच नाही म्हणजे वाचलेली पुस्तकं आणि दुसरी भेटलेली माणसं.\n",
      "म्हणून माजू नका .\n",
      "रात्रीचा दिवस करून आपल्या अनुज्ञे प्रमाणे मी पुस्तके वाचून काढली\n",
      "भितीयुक्त \n",
      "\n",
      "दान पार्गासारखे असतात पण तुम्ही तिच्या पायाला चावू शकत नाही, म्हणूनच जीवनात कुणालाच छोट समजू नका कारण ते जे करू शकते कदाचित ते ज्ञान हवं.\n",
      "उत्तेजक पेया\n",
      "\n",
      "आला जाताची तोडून त्यांना  त्यांचठ निकाल लावण्याचे सामर्थ्य स्वतः जवळ ठेवा.\n",
      "माणूस दुसऱ्याला कितीही फसविणारास त्याची आदरोगली मूर्ख माणसे आपापसात संभाषण \n",
      "\n",
      "जीवनातील काही पराभव हे विजयाहूनही अधिक श्रेष्ठ असतात.\n",
      "हे वाक्य मला आपले जीवन विषयक सूत्र वाटते.\n",
      "औदार्य म्हणजे तुमच्या क्षमतेपेक्षा अधिक देणं आणि आत्मस\n",
      "\n",
      "समुद्रातील तुफानापेक्षा मनातील वादळे अधिक भयानक असतात .\n",
      "परिस्थितीच्या अधीन होऊ नका, परिस्थितीवर मात करा.\n",
      "हे देवा, मला खूप खूप आव्हानं दे व ती पेलण्यास\n",
      "\n",
      "शेवटपर्यंत जे प्रयत्न करत राहतात त्यानांच यश प्राप्त होते.\n",
      "सुट्टी ही तो गरूडाइतके उडता येत नाही म्हणून चिमणी कधी उडण्याचे सोडत नाही .\n",
      "एकदा का विचारांच\n",
      "\n",
      "मरताना आपण असं मरावं की आपण हसत असू आणि लोक रडत असतील .\n",
      "प्रतिकूलतेतही अनुकूलता निर्माण करतो तोच खरा माणूस. प्रतिभा ही अनंत परिश्रमात सामावलेली असते .\n",
      "\n",
      "\n",
      "आपत्ती म्हणजे आपला सर्वात मोठा गुरु .\n",
      "हे वाक्य मला आपले जीवन विषयक सूत्र वाटते.\n",
      ". कुणाच्याही वयाचा अनुभ करू नका;  जे करावं लागतं त्यात आवड निर्माण करा\n",
      "\n",
      "मला क्षमा करा.\n",
      "दुःखाची चव घेण्यापेक्षा ते पचवण्यात अधिक गोडी आहे.\n",
      "साहित्याशी एकनिष्ठ राहा.\n",
      "आवडतं तेच करू नका.\n",
      "मनुष्याचे मोठेपण हे त्याच्या वयावर नव्हे\n",
      "\n",
      "आणि जीवनाशीही.\n",
      "सर्व गोष्टींना पुरून उरणारी एकच गोष्ट आहे .\n",
      "पात्र निर्मिती विलोभनीय आहे.\n",
      "बुडणाऱ्यांना किनाऱ्यावरुन सूचना देतात ते सामान्य आणि सबलता हा \n",
      "\n",
      "जर तुम्ही त्या व्यक्तीची वाट पाहत असाल जी तुमचे जीवन वाचवणार आहे, तर तुम्हाला फक्त आरशात बघण्याची आवश्यकता आहे .\n",
      "आशा ही तेजश्री आहे.\n",
      "पात्र निर्मिती वि\n",
      "\n",
      "सर्वात मोठा रोग काय म्हणतील लोक.\n",
      "प्रतिकूलतेतही अनुकूलता निर्माण करतो तोच खरा माणूस. प्रतिभा ही अनंत परिश्रमात सामावलेली असते .\n",
      "निदान पासष्ट प्रतिशत तर\n",
      "\n",
      "त्याने जे दिले आहे त्याबद्दल त्याचे आभार माना.\n",
      "निष्ठेने जे आपली कार्ये करतात… .\n",
      "प्राज्ञ परीक्षेत पास झालो.\n",
      "ज्वाचं मन जळणी जो आपल्या मनाकरीता मरणाबरोबर\n",
      "\n",
      "मोता आणि  एखाद्या माणसाची सोबत आहे त्याला कोणतेही अंतर लांब वाटत नाही .\n",
      "उच्चीत ध्येयाच्या उद्दिष्टपूर्तीकडे होणारी वाटचाल म्हणे तर आपल्या वाट्याला आहे\n",
      "\n",
      "आपल्या पहिल्या भेटीतील दिलेली स्वाक्षरी मी आजही वाचतो.\n",
      "ज्याला काय लिहावं यापेक्षा काय लिहू नये हे कळतं तोच खरा लेखक .\n",
      "स्वतःवर बसला बाजू नका, स्वतःचा म\n",
      "\n",
      "एकदा कर्तृत्व सिद्ध झालं कि, संशयाने बघणाऱ्या नजरा आपोआप आदरानं झुकतात.\n",
      "उत्तेजक पेयांपासून मी पहिल्या पासूनच अलिप्त आहे.\n",
      "जे आवडतात त्यांच्यावर प्रेम क\n",
      "\n",
      "मला क्षमा करा.\n",
      "मुक्या प्राण्यांवर सदैव प्रेम करा.\n",
      "धईट्ट होऊन नेहमी उत्कृष्ट कलाकारला देतो… .\n",
      "झाडावर प्रेम अर्पाप्रबळ असतो.\n",
      "हे वाक्य मला आपले जीवन विषय\n",
      "\n",
      "या पुढे आपल्याला मी कसलीच तसदी देणार नाही.\n",
      "वाहतो तो झरा आणि थांबते ते डबकं. डबक्यावर डास येतात आणि झऱ्यावर राजहंस. वेळप्रसंगी हळवेपणा बाजुला ठेवून वास\n",
      "\n",
      "आजच्या जगात विशुद्ध प्रेम कुठेच मिळत नाही.\n",
      "सवाच्या सावर प्रेम करा दोन्हींचा फायदाच आहे प्रेम कराल तर मी तुमच्या हृदयात असेन व्देष कराल तर मी तुमच्या म\n",
      "\n",
      "मळलेल्या वाटा अधोगतीला कधीही नेत नाही, हे जितकं खरं तितकेच त्या प्रगतिचा मार्ग दाखवीत नाही, हे ही खरं.\n",
      "कथा वस्तू आकर्षक आहे.\n",
      "आपण कानांनी ऎकतो ते खोटं \n",
      "\n",
      "निदान पासष्ट प्रतिशत तरी असावेत.\n",
      "आणि कष्ट .\n",
      "एकदा व सर्वसागोन्नतीचे सहा सोपान.\n",
      "पराभवाची भीती बाळगू नका एक मोठा विजय तुमचे सर्व पराभव पुसून टाकू शकतो.\n",
      "आ\n",
      "\n",
      "त्यांनी माझे लग्न करायचे कुटील कारस्थान रचले आहे.\n",
      "ढीगभर आश्वासनांपेक्षा टीचभर जगलास तर जगलास .\n",
      "समुद्रात किती लाटा आहेत हे महत्वाचा नसून त्या कामाचा वि\n",
      "\n",
      "परिक्षाच्या उद्दिष्टपूर्तीकडे होणारी वाटचाल म्हणे तर ते पुसायला कारण चाही वासना मनुष्याचार भिंत वाढतोच अशी सुंदर  दिसण्याला काहीच अर्थ नाही.\n",
      "विचार हेत\n",
      "\n",
      "फक्त स्वत:साठी जगलास तर मेलास आणि स्वतसाठी जगून दुसऱ्यांसाठी जगलास तर जगलास .\n",
      "तुम्ही कुणालाही आहात त्यांना वाहिलेली करायला जागी समुद्र गाठायचा असेल, त\n",
      "\n",
      "आजचा संघर्ष उद्याचे सामर्थ्य निर्माण झाले नाही .\n",
      "अशा हे दुःखाचं मोल चुका  सुधारण्यासाठी जो  स्वतःशीच लढाई करतो,  त्याला कुणीही हरवू शकत नाही.\n",
      "माझ्या ज\n",
      "\n",
      "हाताची बोटे ज्याप्रमाणे सारखी नसतात, त्याचप्रमाणे आपल्याला मिळते.\n",
      "उत्तेजक पेयांपासून मी पहिल्या पासूनच अलिप्त आहे.\n",
      "आवडतं तेच करू नका, जे करावं लागतं त\n",
      "\n",
      "या पुढे आपल्याला मी कसलीच तसदी देणार नाही.\n",
      "अविजय हाच आयुष्यातला सर्वात मोठा विजय असतो .\n",
      "ह्रदयात अपार प्रेम असले पाहिजे अस नाही,.\n",
      "हाताची बोटे ज्याप्रमा\n",
      "\n",
      "दूब जीवन जगा आणि प्रत्येक दिवशी जीवनाची नवीन सुरुवात करा .\n",
      "जीवनाच्या समरात रक्तबंबाळ व्हायचे प्रसंग यायचेच.\n",
      "अपमानाचे उत्तर एवढे नम्रपणे द्या की ,   अप\n",
      "\n",
      "कोणतीही चिंता नसून अनेकांच्या आयुष्याला लागलेला रोग आहे .\n",
      "आह्लाद दायक.\n",
      "प्रेम माणसाच्या हातून दिल्यास तो कमी कडू लागतो.\n",
      "ध्वेषाला ज्यादिवशी आपला सावर मा\n",
      "\n",
      "कारण सांगणारी लोक यशस्वी होत नाही.\n",
      "विज्ञानाचं तंत्र शिका पण जगण्याचा मंत्र हरवू नका.\n",
      "हे मी आपल्यावर सोपवतो.\n",
      "आपण जे पेरतो तेच उगवतं .\n",
      "ज्याला खरोखरच लक्\n",
      "\n",
      "माझ्या या मुग्ध वाक्याला हसणे साहजिक आहे.\n",
      "वाहतो तो झरा आणि थांबते ते डबकं. डबक्यावर डास येतात आणि झऱ्यावर राजहंस. वेळप असतो.\n",
      "प्राज्ञ परीक्षेत पास झालो\n"
     ]
    },
    {
     "ename": "KeyboardInterrupt",
     "evalue": "",
     "output_type": "error",
     "traceback": [
      "\u001b[0;31m---------------------------------------------------------------------------\u001b[0m",
      "\u001b[0;31mKeyboardInterrupt\u001b[0m                         Traceback (most recent call last)",
      "Cell \u001b[0;32mIn[63], line 4\u001b[0m\n\u001b[1;32m      2\u001b[0m \u001b[38;5;28;01mwhile\u001b[39;00m \u001b[38;5;28;01mTrue\u001b[39;00m:\n\u001b[1;32m      3\u001b[0m     time\u001b[38;5;241m.\u001b[39msleep(\u001b[38;5;241m1\u001b[39m)\n\u001b[0;32m----> 4\u001b[0m     \u001b[38;5;28mprint\u001b[39m(decode(\u001b[43mm\u001b[49m\u001b[38;5;241;43m.\u001b[39;49m\u001b[43mgenerate\u001b[49m\u001b[43m(\u001b[49m\u001b[43mcontext\u001b[49m\u001b[43m,\u001b[49m\u001b[43m \u001b[49m\u001b[43mmax_new_tokens\u001b[49m\u001b[38;5;241;43m=\u001b[39;49m\u001b[38;5;241;43m150\u001b[39;49m\u001b[43m)\u001b[49m[\u001b[38;5;241m0\u001b[39m]\u001b[38;5;241m.\u001b[39mtolist()))\n",
      "Cell \u001b[0;32mIn[37], line 175\u001b[0m, in \u001b[0;36mBigramLanguageModel.generate\u001b[0;34m(self, idx, max_new_tokens)\u001b[0m\n\u001b[1;32m    173\u001b[0m idx_cond \u001b[38;5;241m=\u001b[39m idx[:, \u001b[38;5;241m-\u001b[39mblock_size:]\n\u001b[1;32m    174\u001b[0m \u001b[38;5;66;03m# get the predictions\u001b[39;00m\n\u001b[0;32m--> 175\u001b[0m logits, loss \u001b[38;5;241m=\u001b[39m \u001b[38;5;28;43mself\u001b[39;49m\u001b[43m(\u001b[49m\u001b[43midx_cond\u001b[49m\u001b[43m)\u001b[49m\n\u001b[1;32m    176\u001b[0m \u001b[38;5;66;03m# focus only on the last time step\u001b[39;00m\n\u001b[1;32m    177\u001b[0m logits \u001b[38;5;241m=\u001b[39m logits[:, \u001b[38;5;241m-\u001b[39m\u001b[38;5;241m1\u001b[39m, :] \u001b[38;5;66;03m# becomes (B, C)\u001b[39;00m\n",
      "File \u001b[0;32m/opt/homebrew/lib/python3.11/site-packages/torch/nn/modules/module.py:1501\u001b[0m, in \u001b[0;36mModule._call_impl\u001b[0;34m(self, *args, **kwargs)\u001b[0m\n\u001b[1;32m   1496\u001b[0m \u001b[39m# If we don't have any hooks, we want to skip the rest of the logic in\u001b[39;00m\n\u001b[1;32m   1497\u001b[0m \u001b[39m# this function, and just call forward.\u001b[39;00m\n\u001b[1;32m   1498\u001b[0m \u001b[39mif\u001b[39;00m \u001b[39mnot\u001b[39;00m (\u001b[39mself\u001b[39m\u001b[39m.\u001b[39m_backward_hooks \u001b[39mor\u001b[39;00m \u001b[39mself\u001b[39m\u001b[39m.\u001b[39m_backward_pre_hooks \u001b[39mor\u001b[39;00m \u001b[39mself\u001b[39m\u001b[39m.\u001b[39m_forward_hooks \u001b[39mor\u001b[39;00m \u001b[39mself\u001b[39m\u001b[39m.\u001b[39m_forward_pre_hooks\n\u001b[1;32m   1499\u001b[0m         \u001b[39mor\u001b[39;00m _global_backward_pre_hooks \u001b[39mor\u001b[39;00m _global_backward_hooks\n\u001b[1;32m   1500\u001b[0m         \u001b[39mor\u001b[39;00m _global_forward_hooks \u001b[39mor\u001b[39;00m _global_forward_pre_hooks):\n\u001b[0;32m-> 1501\u001b[0m     \u001b[39mreturn\u001b[39;00m forward_call(\u001b[39m*\u001b[39;49margs, \u001b[39m*\u001b[39;49m\u001b[39m*\u001b[39;49mkwargs)\n\u001b[1;32m   1502\u001b[0m \u001b[39m# Do not call functions when jit is used\u001b[39;00m\n\u001b[1;32m   1503\u001b[0m full_backward_hooks, non_full_backward_hooks \u001b[39m=\u001b[39m [], []\n",
      "Cell \u001b[0;32mIn[37], line 155\u001b[0m, in \u001b[0;36mBigramLanguageModel.forward\u001b[0;34m(self, idx, targets)\u001b[0m\n\u001b[1;32m    153\u001b[0m pos_emb \u001b[38;5;241m=\u001b[39m \u001b[38;5;28mself\u001b[39m\u001b[38;5;241m.\u001b[39mposition_embedding_table(torch\u001b[38;5;241m.\u001b[39marange(T, device\u001b[38;5;241m=\u001b[39mdevice)) \u001b[38;5;66;03m# (T,C)\u001b[39;00m\n\u001b[1;32m    154\u001b[0m x \u001b[38;5;241m=\u001b[39m tok_emb \u001b[38;5;241m+\u001b[39m pos_emb \u001b[38;5;66;03m# (B,T,C)\u001b[39;00m\n\u001b[0;32m--> 155\u001b[0m x \u001b[38;5;241m=\u001b[39m \u001b[38;5;28;43mself\u001b[39;49m\u001b[38;5;241;43m.\u001b[39;49m\u001b[43mblocks\u001b[49m\u001b[43m(\u001b[49m\u001b[43mx\u001b[49m\u001b[43m)\u001b[49m \u001b[38;5;66;03m# (B,T,C)\u001b[39;00m\n\u001b[1;32m    156\u001b[0m x \u001b[38;5;241m=\u001b[39m \u001b[38;5;28mself\u001b[39m\u001b[38;5;241m.\u001b[39mln_f(x) \u001b[38;5;66;03m# (B,T,C)\u001b[39;00m\n\u001b[1;32m    157\u001b[0m logits \u001b[38;5;241m=\u001b[39m \u001b[38;5;28mself\u001b[39m\u001b[38;5;241m.\u001b[39mlm_head(x) \u001b[38;5;66;03m# (B,T,vocab_size)\u001b[39;00m\n",
      "File \u001b[0;32m/opt/homebrew/lib/python3.11/site-packages/torch/nn/modules/module.py:1501\u001b[0m, in \u001b[0;36mModule._call_impl\u001b[0;34m(self, *args, **kwargs)\u001b[0m\n\u001b[1;32m   1496\u001b[0m \u001b[39m# If we don't have any hooks, we want to skip the rest of the logic in\u001b[39;00m\n\u001b[1;32m   1497\u001b[0m \u001b[39m# this function, and just call forward.\u001b[39;00m\n\u001b[1;32m   1498\u001b[0m \u001b[39mif\u001b[39;00m \u001b[39mnot\u001b[39;00m (\u001b[39mself\u001b[39m\u001b[39m.\u001b[39m_backward_hooks \u001b[39mor\u001b[39;00m \u001b[39mself\u001b[39m\u001b[39m.\u001b[39m_backward_pre_hooks \u001b[39mor\u001b[39;00m \u001b[39mself\u001b[39m\u001b[39m.\u001b[39m_forward_hooks \u001b[39mor\u001b[39;00m \u001b[39mself\u001b[39m\u001b[39m.\u001b[39m_forward_pre_hooks\n\u001b[1;32m   1499\u001b[0m         \u001b[39mor\u001b[39;00m _global_backward_pre_hooks \u001b[39mor\u001b[39;00m _global_backward_hooks\n\u001b[1;32m   1500\u001b[0m         \u001b[39mor\u001b[39;00m _global_forward_hooks \u001b[39mor\u001b[39;00m _global_forward_pre_hooks):\n\u001b[0;32m-> 1501\u001b[0m     \u001b[39mreturn\u001b[39;00m forward_call(\u001b[39m*\u001b[39;49margs, \u001b[39m*\u001b[39;49m\u001b[39m*\u001b[39;49mkwargs)\n\u001b[1;32m   1502\u001b[0m \u001b[39m# Do not call functions when jit is used\u001b[39;00m\n\u001b[1;32m   1503\u001b[0m full_backward_hooks, non_full_backward_hooks \u001b[39m=\u001b[39m [], []\n",
      "File \u001b[0;32m/opt/homebrew/lib/python3.11/site-packages/torch/nn/modules/container.py:217\u001b[0m, in \u001b[0;36mSequential.forward\u001b[0;34m(self, input)\u001b[0m\n\u001b[1;32m    215\u001b[0m \u001b[39mdef\u001b[39;00m \u001b[39mforward\u001b[39m(\u001b[39mself\u001b[39m, \u001b[39minput\u001b[39m):\n\u001b[1;32m    216\u001b[0m     \u001b[39mfor\u001b[39;00m module \u001b[39min\u001b[39;00m \u001b[39mself\u001b[39m:\n\u001b[0;32m--> 217\u001b[0m         \u001b[39minput\u001b[39m \u001b[39m=\u001b[39m module(\u001b[39minput\u001b[39;49m)\n\u001b[1;32m    218\u001b[0m     \u001b[39mreturn\u001b[39;00m \u001b[39minput\u001b[39m\n",
      "File \u001b[0;32m/opt/homebrew/lib/python3.11/site-packages/torch/nn/modules/module.py:1501\u001b[0m, in \u001b[0;36mModule._call_impl\u001b[0;34m(self, *args, **kwargs)\u001b[0m\n\u001b[1;32m   1496\u001b[0m \u001b[39m# If we don't have any hooks, we want to skip the rest of the logic in\u001b[39;00m\n\u001b[1;32m   1497\u001b[0m \u001b[39m# this function, and just call forward.\u001b[39;00m\n\u001b[1;32m   1498\u001b[0m \u001b[39mif\u001b[39;00m \u001b[39mnot\u001b[39;00m (\u001b[39mself\u001b[39m\u001b[39m.\u001b[39m_backward_hooks \u001b[39mor\u001b[39;00m \u001b[39mself\u001b[39m\u001b[39m.\u001b[39m_backward_pre_hooks \u001b[39mor\u001b[39;00m \u001b[39mself\u001b[39m\u001b[39m.\u001b[39m_forward_hooks \u001b[39mor\u001b[39;00m \u001b[39mself\u001b[39m\u001b[39m.\u001b[39m_forward_pre_hooks\n\u001b[1;32m   1499\u001b[0m         \u001b[39mor\u001b[39;00m _global_backward_pre_hooks \u001b[39mor\u001b[39;00m _global_backward_hooks\n\u001b[1;32m   1500\u001b[0m         \u001b[39mor\u001b[39;00m _global_forward_hooks \u001b[39mor\u001b[39;00m _global_forward_pre_hooks):\n\u001b[0;32m-> 1501\u001b[0m     \u001b[39mreturn\u001b[39;00m forward_call(\u001b[39m*\u001b[39;49margs, \u001b[39m*\u001b[39;49m\u001b[39m*\u001b[39;49mkwargs)\n\u001b[1;32m   1502\u001b[0m \u001b[39m# Do not call functions when jit is used\u001b[39;00m\n\u001b[1;32m   1503\u001b[0m full_backward_hooks, non_full_backward_hooks \u001b[39m=\u001b[39m [], []\n",
      "Cell \u001b[0;32mIn[37], line 132\u001b[0m, in \u001b[0;36mBlock.forward\u001b[0;34m(self, x)\u001b[0m\n\u001b[1;32m    131\u001b[0m \u001b[38;5;28;01mdef\u001b[39;00m \u001b[38;5;21mforward\u001b[39m(\u001b[38;5;28mself\u001b[39m, x):\n\u001b[0;32m--> 132\u001b[0m     x \u001b[38;5;241m=\u001b[39m x \u001b[38;5;241m+\u001b[39m \u001b[38;5;28mself\u001b[39m\u001b[38;5;241m.\u001b[39msa(\u001b[38;5;28;43mself\u001b[39;49m\u001b[38;5;241;43m.\u001b[39;49m\u001b[43mln1\u001b[49m\u001b[43m(\u001b[49m\u001b[43mx\u001b[49m\u001b[43m)\u001b[49m)\n\u001b[1;32m    133\u001b[0m     x \u001b[38;5;241m=\u001b[39m x \u001b[38;5;241m+\u001b[39m \u001b[38;5;28mself\u001b[39m\u001b[38;5;241m.\u001b[39mffwd(\u001b[38;5;28mself\u001b[39m\u001b[38;5;241m.\u001b[39mln2(x))\n\u001b[1;32m    134\u001b[0m     \u001b[38;5;28;01mreturn\u001b[39;00m x\n",
      "File \u001b[0;32m/opt/homebrew/lib/python3.11/site-packages/torch/nn/modules/module.py:1501\u001b[0m, in \u001b[0;36mModule._call_impl\u001b[0;34m(self, *args, **kwargs)\u001b[0m\n\u001b[1;32m   1496\u001b[0m \u001b[39m# If we don't have any hooks, we want to skip the rest of the logic in\u001b[39;00m\n\u001b[1;32m   1497\u001b[0m \u001b[39m# this function, and just call forward.\u001b[39;00m\n\u001b[1;32m   1498\u001b[0m \u001b[39mif\u001b[39;00m \u001b[39mnot\u001b[39;00m (\u001b[39mself\u001b[39m\u001b[39m.\u001b[39m_backward_hooks \u001b[39mor\u001b[39;00m \u001b[39mself\u001b[39m\u001b[39m.\u001b[39m_backward_pre_hooks \u001b[39mor\u001b[39;00m \u001b[39mself\u001b[39m\u001b[39m.\u001b[39m_forward_hooks \u001b[39mor\u001b[39;00m \u001b[39mself\u001b[39m\u001b[39m.\u001b[39m_forward_pre_hooks\n\u001b[1;32m   1499\u001b[0m         \u001b[39mor\u001b[39;00m _global_backward_pre_hooks \u001b[39mor\u001b[39;00m _global_backward_hooks\n\u001b[1;32m   1500\u001b[0m         \u001b[39mor\u001b[39;00m _global_forward_hooks \u001b[39mor\u001b[39;00m _global_forward_pre_hooks):\n\u001b[0;32m-> 1501\u001b[0m     \u001b[39mreturn\u001b[39;00m forward_call(\u001b[39m*\u001b[39;49margs, \u001b[39m*\u001b[39;49m\u001b[39m*\u001b[39;49mkwargs)\n\u001b[1;32m   1502\u001b[0m \u001b[39m# Do not call functions when jit is used\u001b[39;00m\n\u001b[1;32m   1503\u001b[0m full_backward_hooks, non_full_backward_hooks \u001b[39m=\u001b[39m [], []\n",
      "File \u001b[0;32m/opt/homebrew/lib/python3.11/site-packages/torch/nn/modules/normalization.py:190\u001b[0m, in \u001b[0;36mLayerNorm.forward\u001b[0;34m(self, input)\u001b[0m\n\u001b[1;32m    189\u001b[0m \u001b[39mdef\u001b[39;00m \u001b[39mforward\u001b[39m(\u001b[39mself\u001b[39m, \u001b[39minput\u001b[39m: Tensor) \u001b[39m-\u001b[39m\u001b[39m>\u001b[39m Tensor:\n\u001b[0;32m--> 190\u001b[0m     \u001b[39mreturn\u001b[39;00m F\u001b[39m.\u001b[39;49mlayer_norm(\n\u001b[1;32m    191\u001b[0m         \u001b[39minput\u001b[39;49m, \u001b[39mself\u001b[39;49m\u001b[39m.\u001b[39;49mnormalized_shape, \u001b[39mself\u001b[39;49m\u001b[39m.\u001b[39;49mweight, \u001b[39mself\u001b[39;49m\u001b[39m.\u001b[39;49mbias, \u001b[39mself\u001b[39;49m\u001b[39m.\u001b[39;49meps)\n",
      "File \u001b[0;32m/opt/homebrew/lib/python3.11/site-packages/torch/nn/functional.py:2515\u001b[0m, in \u001b[0;36mlayer_norm\u001b[0;34m(input, normalized_shape, weight, bias, eps)\u001b[0m\n\u001b[1;32m   2511\u001b[0m \u001b[39mif\u001b[39;00m has_torch_function_variadic(\u001b[39minput\u001b[39m, weight, bias):\n\u001b[1;32m   2512\u001b[0m     \u001b[39mreturn\u001b[39;00m handle_torch_function(\n\u001b[1;32m   2513\u001b[0m         layer_norm, (\u001b[39minput\u001b[39m, weight, bias), \u001b[39minput\u001b[39m, normalized_shape, weight\u001b[39m=\u001b[39mweight, bias\u001b[39m=\u001b[39mbias, eps\u001b[39m=\u001b[39meps\n\u001b[1;32m   2514\u001b[0m     )\n\u001b[0;32m-> 2515\u001b[0m \u001b[39mreturn\u001b[39;00m torch\u001b[39m.\u001b[39;49mlayer_norm(\u001b[39minput\u001b[39;49m, normalized_shape, weight, bias, eps, torch\u001b[39m.\u001b[39;49mbackends\u001b[39m.\u001b[39;49mcudnn\u001b[39m.\u001b[39;49menabled)\n",
      "\u001b[0;31mKeyboardInterrupt\u001b[0m: "
     ]
    }
   ],
   "source": [
    "import time\n",
    "while True:\n",
    "    time.sleep(1)\n",
    "    print(decode(m.generate(context, max_new_tokens=150)[0].tolist()))"
   ]
  }
 ],
 "metadata": {
  "kernelspec": {
   "display_name": "Python 3.11.3 64-bit",
   "language": "python",
   "name": "python3"
  },
  "language_info": {
   "codemirror_mode": {
    "name": "ipython",
    "version": 3
   },
   "file_extension": ".py",
   "mimetype": "text/x-python",
   "name": "python",
   "nbconvert_exporter": "python",
   "pygments_lexer": "ipython3",
   "version": "3.11.3"
  },
  "orig_nbformat": 4,
  "vscode": {
   "interpreter": {
    "hash": "b0fa6594d8f4cbf19f97940f81e996739fb7646882a419484c72d19e05852a7e"
   }
  }
 },
 "nbformat": 4,
 "nbformat_minor": 2
}
