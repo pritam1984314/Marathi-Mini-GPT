{
 "cells": [
  {
   "cell_type": "markdown",
   "metadata": {},
   "source": [
    "# Wavelet Magic\n",
    "\n",
    "In this notebook, we try to develop Devnagari Charecter based language model which generate meaningful Marathi Names internally uses Neural Network. \n",
    "Here we are partially following approach mentioned in this [paper](https://arxiv.org/abs/1609.03499)\n",
    "As mentioned in paper Wavenet network is used for generating raw audio waveforms. We are using wavenet structure mentioned in paper to calculate relationship between charecters in words of training set. Wavenet creates hierarchical structure which considers consecutive substructure (subwords and combinations of subwords) to predict next part of structure (in our case next charecter).\n",
    "\n",
    "As we do in previous attempts, we are load necessary libraries and create input dataset and other data structures."
   ]
  },
  {
   "cell_type": "code",
   "execution_count": 1,
   "metadata": {},
   "outputs": [],
   "source": [
    "import torch\n",
    "import torch.nn.functional as F\n",
    "import matplotlib.pyplot as plt # for making figures\n",
    "%matplotlib inline"
   ]
  },
  {
   "cell_type": "code",
   "execution_count": 2,
   "metadata": {},
   "outputs": [
    {
     "data": {
      "text/plain": [
       "['अंकबरीश', 'अकलंक', 'अंकित', 'अंकुज', 'अंकुर', 'अंकुश', 'अंकेश', 'अक्रूर']"
      ]
     },
     "execution_count": 2,
     "metadata": {},
     "output_type": "execute_result"
    }
   ],
   "source": [
    "words = open('names.txt', 'r').read().splitlines()\n",
    "more_words = open('more_names.txt', 'r').read().splitlines()\n",
    "words[:8]"
   ]
  },
  {
   "cell_type": "code",
   "execution_count": 3,
   "metadata": {},
   "outputs": [],
   "source": [
    "words1 = [word.strip() for word in words]\n",
    "words1.extend([word.strip() for word in more_words])\n",
    "words = list(set(words1))"
   ]
  },
  {
   "cell_type": "code",
   "execution_count": 4,
   "metadata": {},
   "outputs": [
    {
     "name": "stdout",
     "output_type": "stream",
     "text": [
      "{1: 'ँ', 2: 'ं', 3: 'ः', 4: 'अ', 5: 'आ', 6: 'इ', 7: 'ई', 8: 'उ', 9: 'ऊ', 10: 'ऋ', 11: 'ए', 12: 'ऐ', 13: 'ओ', 14: 'औ', 15: 'क', 16: 'ख', 17: 'ग', 18: 'घ', 19: 'च', 20: 'छ', 21: 'ज', 22: 'झ', 23: 'ञ', 24: 'ट', 25: 'ठ', 26: 'ड', 27: 'ढ', 28: 'ण', 29: 'त', 30: 'थ', 31: 'द', 32: 'ध', 33: 'न', 34: 'प', 35: 'फ', 36: 'ब', 37: 'भ', 38: 'म', 39: 'य', 40: 'र', 41: 'ल', 42: 'ळ', 43: 'ऴ', 44: 'व', 45: 'श', 46: 'ष', 47: 'स', 48: 'ह', 49: '़', 50: 'ा', 51: 'ि', 52: 'ी', 53: 'ु', 54: 'ू', 55: 'ृ', 56: 'ॅ', 57: 'े', 58: 'ै', 59: 'ॉ', 60: 'ो', 61: 'ौ', 62: '्', 63: 'क़', 64: 'ज़', 65: 'फ़', 0: '.'}\n",
      "66\n"
     ]
    }
   ],
   "source": [
    "# build the vocabulary of characters and mappings to/from integers\n",
    "chars = sorted(list(set(''.join(words))))\n",
    "stoi = {s:i+1 for i,s in enumerate(chars)}\n",
    "stoi['.'] = 0\n",
    "itos = {i:s for s,i in stoi.items()}\n",
    "vocab_size = len(itos)\n",
    "print(itos)\n",
    "print(vocab_size)"
   ]
  },
  {
   "cell_type": "code",
   "execution_count": 5,
   "metadata": {},
   "outputs": [],
   "source": [
    "# shuffle up the words\n",
    "import random\n",
    "random.seed(42)\n",
    "random.shuffle(words)"
   ]
  },
  {
   "cell_type": "markdown",
   "metadata": {},
   "source": [
    "We will use input block size of 8 charecters. This is one of the hyperparameter which can affect result."
   ]
  },
  {
   "cell_type": "code",
   "execution_count": 6,
   "metadata": {},
   "outputs": [
    {
     "name": "stdout",
     "output_type": "stream",
     "text": [
      "torch.Size([61266, 8]) torch.Size([61266])\n",
      "torch.Size([7615, 8]) torch.Size([7615])\n",
      "torch.Size([7675, 8]) torch.Size([7675])\n"
     ]
    }
   ],
   "source": [
    "# build the dataset\n",
    "block_size = 8 # context length: how many characters do we take to predict the next one?\n",
    "\n",
    "def build_dataset(words):  \n",
    "  X, Y = [], []\n",
    "  \n",
    "  for w in words:\n",
    "    context = [0] * block_size\n",
    "    for ch in w + '.':\n",
    "      ix = stoi[ch]\n",
    "      X.append(context)\n",
    "      Y.append(ix)\n",
    "      context = context[1:] + [ix] # crop and append\n",
    "\n",
    "  X = torch.tensor(X)\n",
    "  Y = torch.tensor(Y)\n",
    "  print(X.shape, Y.shape)\n",
    "  return X, Y\n",
    "\n",
    "n1 = int(0.8*len(words))\n",
    "n2 = int(0.9*len(words))\n",
    "Xtr,  Ytr  = build_dataset(words[:n1])     # 80%\n",
    "Xdev, Ydev = build_dataset(words[n1:n2])   # 10%\n",
    "Xte,  Yte  = build_dataset(words[n2:])     # 10%"
   ]
  },
  {
   "cell_type": "code",
   "execution_count": 7,
   "metadata": {},
   "outputs": [
    {
     "name": "stdout",
     "output_type": "stream",
     "text": [
      "........\n",
      ".......क\n",
      "......कु\n",
      ".....कुस\n",
      "....कुसु\n",
      "...कुसुम\n",
      "..कुसुम्\n",
      ".कुसुम्ल\n",
      "कुसुम्लत\n",
      "ुसुम्लत्\n",
      "सुम्लत्त\n",
      "ुम्लत्ता\n",
      "........\n",
      ".......थ\n",
      "......थब\n",
      ".....थबि\n",
      "....थबित\n",
      "........\n",
      ".......च\n",
      "......चं\n",
      ".....चंद\n",
      "....चंदू\n",
      "........\n",
      ".......क\n",
      "......कौ\n",
      ".....कौस\n",
      "....कौसल\n",
      "........\n",
      ".......ख\n",
      "......खी\n",
      ".....खीम\n",
      "........\n",
      ".......म\n",
      "......मे\n",
      ".....मेह\n",
      "....मेह्\n",
      "...मेह्त\n",
      "..मेह्तो\n",
      "........\n",
      ".......र\n",
      "......रह\n",
      ".....रहि\n",
      "....रहिस\n",
      "...रहिसु\n",
      "..रहिसुद\n",
      ".रहिसुद्\n",
      "रहिसुद्द\n",
      "हिसुद्दि\n",
      "िसुद्दिन\n",
      "........\n"
     ]
    }
   ],
   "source": [
    "for val in Xtr[:50]:\n",
    "    line = []\n",
    "    for v in val:\n",
    "        line.append(itos[int(v)])\n",
    "    print(''.join(line))    "
   ]
  },
  {
   "cell_type": "code",
   "execution_count": 8,
   "metadata": {},
   "outputs": [
    {
     "name": "stdout",
     "output_type": "stream",
     "text": [
      "........ --> क\n",
      ".......क --> ु\n",
      "......कु --> स\n",
      ".....कुस --> ु\n",
      "....कुसु --> म\n",
      "...कुसुम --> ्\n",
      "..कुसुम् --> ल\n",
      ".कुसुम्ल --> त\n",
      "कुसुम्लत --> ्\n",
      "ुसुम्लत् --> त\n",
      "सुम्लत्त --> ा\n",
      "ुम्लत्ता --> .\n",
      "........ --> थ\n",
      ".......थ --> ब\n",
      "......थब --> ि\n",
      ".....थबि --> त\n",
      "....थबित --> .\n",
      "........ --> च\n",
      ".......च --> ं\n",
      "......चं --> द\n"
     ]
    }
   ],
   "source": [
    "for x,y in zip(Xtr[:20], Ytr[:20]):\n",
    "  print(''.join(itos[ix.item()] for ix in x), '-->', itos[y.item()])"
   ]
  },
  {
   "cell_type": "markdown",
   "metadata": {},
   "source": [
    "Now we are ready to create scaffold of model i.e. structure of Neural Network.\n",
    "* Linear layer is straight forward, it takes fan_in, fan_out and bias value to create linear layer which is nothing but weighted addition of input feature with addition of bias.\n",
    "* BatchNorm1d is batch normalization layer for 1 dimentional data. Here we are making all arrangement for handling of multi dimentional layer data. It will make layer data in gaussian distribution.\n",
    "* Tanh is activation layer.\n",
    "* FlattenConsecutive layer flatten multi dimentional data and help to create wavenet structure.\n",
    "* Sequential layer combines above all layers in various combinations."
   ]
  },
  {
   "cell_type": "code",
   "execution_count": 10,
   "metadata": {},
   "outputs": [],
   "source": [
    "# Near copy paste of the layers we have developed in Part 3\n",
    "\n",
    "# -----------------------------------------------------------------------------------------------\n",
    "class Linear:\n",
    "  \n",
    "  def __init__(self, fan_in, fan_out, bias=True):\n",
    "    self.weight = torch.randn((fan_in, fan_out)) / fan_in**0.5 # note: kaiming init\n",
    "    self.bias = torch.zeros(fan_out) if bias else None\n",
    "  \n",
    "  def __call__(self, x):\n",
    "    self.out = x @ self.weight\n",
    "    if self.bias is not None:\n",
    "      self.out += self.bias\n",
    "    return self.out\n",
    "  \n",
    "  def parameters(self):\n",
    "    return [self.weight] + ([] if self.bias is None else [self.bias])\n",
    "\n",
    "# -----------------------------------------------------------------------------------------------\n",
    "class BatchNorm1d:\n",
    "  \n",
    "  def __init__(self, dim, eps=1e-5, momentum=0.1):\n",
    "    self.eps = eps\n",
    "    self.momentum = momentum\n",
    "    self.training = True\n",
    "    # parameters (trained with backprop)\n",
    "    self.gamma = torch.ones(dim)\n",
    "    self.beta = torch.zeros(dim)\n",
    "    # buffers (trained with a running 'momentum update')\n",
    "    self.running_mean = torch.zeros(dim)\n",
    "    self.running_var = torch.ones(dim)\n",
    "  \n",
    "  def __call__(self, x):\n",
    "    # calculate the forward pass\n",
    "    if self.training:\n",
    "      if x.ndim == 2:\n",
    "        dim = 0\n",
    "      elif x.ndim == 3:\n",
    "        dim = (0,1)\n",
    "      xmean = x.mean(dim, keepdim=True) # batch mean\n",
    "      xvar = x.var(dim, keepdim=True) # batch variance\n",
    "    else:\n",
    "      xmean = self.running_mean\n",
    "      xvar = self.running_var\n",
    "    xhat = (x - xmean) / torch.sqrt(xvar + self.eps) # normalize to unit variance\n",
    "    self.out = self.gamma * xhat + self.beta\n",
    "    # update the buffers\n",
    "    if self.training:\n",
    "      with torch.no_grad():\n",
    "        self.running_mean = (1 - self.momentum) * self.running_mean + self.momentum * xmean\n",
    "        self.running_var = (1 - self.momentum) * self.running_var + self.momentum * xvar\n",
    "    return self.out\n",
    "  \n",
    "  def parameters(self):\n",
    "    return [self.gamma, self.beta]\n",
    "\n",
    "# -----------------------------------------------------------------------------------------------\n",
    "class Tanh:\n",
    "  def __call__(self, x):\n",
    "    self.out = torch.tanh(x)\n",
    "    return self.out\n",
    "  def parameters(self):\n",
    "    return []\n",
    "\n",
    "# -----------------------------------------------------------------------------------------------\n",
    "class Embedding:\n",
    "  \n",
    "  def __init__(self, num_embeddings, embedding_dim):\n",
    "    self.weight = torch.randn((num_embeddings, embedding_dim))\n",
    "    \n",
    "  def __call__(self, IX):\n",
    "    self.out = self.weight[IX]\n",
    "    return self.out\n",
    "  \n",
    "  def parameters(self):\n",
    "    return [self.weight]\n",
    "\n",
    "# -----------------------------------------------------------------------------------------------\n",
    "class FlattenConsecutive:\n",
    "  \n",
    "  def __init__(self, n):\n",
    "    self.n = n\n",
    "    \n",
    "  def __call__(self, x):\n",
    "    B, T, C = x.shape\n",
    "    #print(\"shape : \",B,T,C)\n",
    "    x = x.view(B, T//self.n, C*self.n)\n",
    "    if x.shape[1] == 1:\n",
    "      x = x.squeeze(1)\n",
    "    self.out = x\n",
    "    return self.out\n",
    "  \n",
    "  def parameters(self):\n",
    "    return []\n",
    "\n",
    "# -----------------------------------------------------------------------------------------------\n",
    "class Sequential:\n",
    "  \n",
    "  def __init__(self, layers):\n",
    "    self.layers = layers\n",
    "  \n",
    "  def __call__(self, x):\n",
    "    for layer in self.layers:\n",
    "      x = layer(x)\n",
    "    self.out = x\n",
    "    return self.out\n",
    "  \n",
    "  def parameters(self):\n",
    "    # get parameters of all layers and stretch them out into one list\n",
    "    return [p for layer in self.layers for p in layer.parameters()]"
   ]
  },
  {
   "cell_type": "markdown",
   "metadata": {},
   "source": [
    "Define seed for reproducibility of same random ( funny oxymoran ...) data."
   ]
  },
  {
   "cell_type": "code",
   "execution_count": 11,
   "metadata": {},
   "outputs": [],
   "source": [
    "torch.manual_seed(42); # seed rng for reproducibility"
   ]
  },
  {
   "cell_type": "markdown",
   "metadata": {},
   "source": [
    "Now this is actual model for Character based language model with wavenet structure."
   ]
  },
  {
   "cell_type": "code",
   "execution_count": 12,
   "metadata": {},
   "outputs": [
    {
     "name": "stdout",
     "output_type": "stream",
     "text": [
      "116034\n"
     ]
    }
   ],
   "source": [
    "# original network\n",
    "# n_embd = 10 # the dimensionality of the character embedding vectors\n",
    "# n_hidden = 300 # the number of neurons in the hidden layer of the MLP\n",
    "# model = Sequential([\n",
    "#   Embedding(vocab_size, n_embd),\n",
    "#   FlattenConsecutive(8), Linear(n_embd * 8, n_hidden, bias=False), BatchNorm1d(n_hidden), Tanh(),\n",
    "#   Linear(n_hidden, vocab_size),\n",
    "# ])\n",
    "\n",
    "# hierarchical network\n",
    "n_embd = 128 # the dimensionality of the character embedding vectors\n",
    "n_hidden = 128 # the number of neurons in the hidden layer of the MLP\n",
    "model = Sequential([\n",
    "  Embedding(vocab_size, n_embd),\n",
    "  FlattenConsecutive(2), Linear(n_embd * 2, n_hidden, bias=False), BatchNorm1d(n_hidden), Tanh(),\n",
    "  FlattenConsecutive(2), Linear(n_hidden*2, n_hidden, bias=False), BatchNorm1d(n_hidden), Tanh(),\n",
    "  FlattenConsecutive(2), Linear(n_hidden*2, n_hidden, bias=False), BatchNorm1d(n_hidden), Tanh(),\n",
    "  Linear(n_hidden, vocab_size),\n",
    "])\n",
    "\n",
    "# parameter init\n",
    "with torch.no_grad():\n",
    "  model.layers[-1].weight *= 0.1 # last layer make less confident\n",
    "\n",
    "parameters = model.parameters()\n",
    "print(sum(p.nelement() for p in parameters)) # number of parameters in total\n",
    "for p in parameters:\n",
    "  p.requires_grad = True"
   ]
  },
  {
   "cell_type": "markdown",
   "metadata": {},
   "source": [
    "And this is training loop."
   ]
  },
  {
   "cell_type": "code",
   "execution_count": 13,
   "metadata": {},
   "outputs": [
    {
     "name": "stdout",
     "output_type": "stream",
     "text": [
      "      0/ 200000: 4.1901\n",
      "   1000/ 200000: 2.5581\n",
      "   2000/ 200000: 3.0448\n",
      "   3000/ 200000: 2.6125\n",
      "   4000/ 200000: 2.1467\n",
      "   5000/ 200000: 2.1291\n",
      "   6000/ 200000: 2.1532\n",
      "   7000/ 200000: 1.5999\n",
      "   8000/ 200000: 2.1660\n",
      "   9000/ 200000: 1.8441\n",
      "  10000/ 200000: 2.8791\n",
      "  11000/ 200000: 1.8204\n",
      "  12000/ 200000: 2.2962\n",
      "  13000/ 200000: 2.1013\n",
      "  14000/ 200000: 1.7158\n",
      "  15000/ 200000: 2.0088\n",
      "  16000/ 200000: 1.9064\n",
      "  17000/ 200000: 1.8276\n",
      "  18000/ 200000: 1.9163\n",
      "  19000/ 200000: 2.1326\n",
      "  20000/ 200000: 2.3464\n",
      "  21000/ 200000: 1.8420\n",
      "  22000/ 200000: 2.2070\n",
      "  23000/ 200000: 2.1560\n",
      "  24000/ 200000: 1.6909\n",
      "  25000/ 200000: 1.4541\n",
      "  26000/ 200000: 1.5546\n",
      "  27000/ 200000: 2.0411\n",
      "  28000/ 200000: 2.0361\n",
      "  29000/ 200000: 1.8480\n",
      "  30000/ 200000: 2.4198\n",
      "  31000/ 200000: 1.9858\n",
      "  32000/ 200000: 2.4610\n",
      "  33000/ 200000: 1.5994\n",
      "  34000/ 200000: 2.1115\n",
      "  35000/ 200000: 1.9214\n",
      "  36000/ 200000: 2.0740\n",
      "  37000/ 200000: 1.7450\n",
      "  38000/ 200000: 2.2701\n",
      "  39000/ 200000: 1.9320\n",
      "  40000/ 200000: 1.9636\n",
      "  41000/ 200000: 2.0092\n",
      "  42000/ 200000: 1.9041\n",
      "  43000/ 200000: 2.2237\n",
      "  44000/ 200000: 2.1961\n",
      "  45000/ 200000: 1.6707\n",
      "  46000/ 200000: 1.7580\n",
      "  47000/ 200000: 1.7577\n",
      "  48000/ 200000: 1.8707\n",
      "  49000/ 200000: 1.9698\n",
      "  50000/ 200000: 1.8299\n",
      "  51000/ 200000: 1.9295\n",
      "  52000/ 200000: 1.8900\n",
      "  53000/ 200000: 2.3509\n",
      "  54000/ 200000: 1.6566\n",
      "  55000/ 200000: 1.8033\n",
      "  56000/ 200000: 2.2789\n",
      "  57000/ 200000: 1.6901\n",
      "  58000/ 200000: 1.6023\n",
      "  59000/ 200000: 1.8513\n",
      "  60000/ 200000: 1.7661\n",
      "  61000/ 200000: 2.0176\n",
      "  62000/ 200000: 2.2100\n",
      "  63000/ 200000: 2.0690\n",
      "  64000/ 200000: 1.8920\n",
      "  65000/ 200000: 2.0834\n",
      "  66000/ 200000: 1.5582\n",
      "  67000/ 200000: 2.0109\n",
      "  68000/ 200000: 1.8929\n",
      "  69000/ 200000: 1.9028\n",
      "  70000/ 200000: 1.9281\n",
      "  71000/ 200000: 1.8200\n",
      "  72000/ 200000: 1.9400\n",
      "  73000/ 200000: 2.1766\n",
      "  74000/ 200000: 1.9411\n",
      "  75000/ 200000: 1.3416\n",
      "  76000/ 200000: 1.5773\n",
      "  77000/ 200000: 1.8666\n",
      "  78000/ 200000: 1.7331\n",
      "  79000/ 200000: 1.5185\n",
      "  80000/ 200000: 1.9101\n",
      "  81000/ 200000: 1.8476\n",
      "  82000/ 200000: 1.7829\n",
      "  83000/ 200000: 1.6199\n",
      "  84000/ 200000: 1.8854\n",
      "  85000/ 200000: 1.7173\n",
      "  86000/ 200000: 1.5518\n",
      "  87000/ 200000: 1.7628\n",
      "  88000/ 200000: 1.8319\n",
      "  89000/ 200000: 1.4213\n",
      "  90000/ 200000: 1.7341\n",
      "  91000/ 200000: 1.8621\n",
      "  92000/ 200000: 1.6100\n",
      "  93000/ 200000: 1.7171\n",
      "  94000/ 200000: 1.7793\n",
      "  95000/ 200000: 1.7941\n",
      "  96000/ 200000: 2.2945\n",
      "  97000/ 200000: 2.1031\n",
      "  98000/ 200000: 2.0921\n",
      "  99000/ 200000: 1.9485\n",
      " 100000/ 200000: 2.0631\n",
      " 101000/ 200000: 2.0996\n",
      " 102000/ 200000: 2.0161\n",
      " 103000/ 200000: 1.5569\n",
      " 104000/ 200000: 1.8156\n",
      " 105000/ 200000: 1.8521\n",
      " 106000/ 200000: 1.6866\n",
      " 107000/ 200000: 1.6989\n",
      " 108000/ 200000: 1.9390\n",
      " 109000/ 200000: 1.7586\n",
      " 110000/ 200000: 1.2778\n",
      " 111000/ 200000: 1.7818\n",
      " 112000/ 200000: 2.0105\n",
      " 113000/ 200000: 1.7513\n",
      " 114000/ 200000: 2.1363\n",
      " 115000/ 200000: 2.0271\n",
      " 116000/ 200000: 1.6926\n",
      " 117000/ 200000: 1.7183\n",
      " 118000/ 200000: 1.5152\n",
      " 119000/ 200000: 2.4779\n",
      " 120000/ 200000: 2.0280\n",
      " 121000/ 200000: 1.8225\n",
      " 122000/ 200000: 1.7232\n",
      " 123000/ 200000: 1.7671\n",
      " 124000/ 200000: 1.6928\n",
      " 125000/ 200000: 1.8019\n",
      " 126000/ 200000: 1.5715\n",
      " 127000/ 200000: 1.9348\n",
      " 128000/ 200000: 1.7025\n",
      " 129000/ 200000: 2.2731\n",
      " 130000/ 200000: 1.6098\n",
      " 131000/ 200000: 1.6733\n",
      " 132000/ 200000: 1.7746\n",
      " 133000/ 200000: 1.3702\n",
      " 134000/ 200000: 1.5261\n",
      " 135000/ 200000: 1.8999\n",
      " 136000/ 200000: 1.5775\n",
      " 137000/ 200000: 1.8491\n",
      " 138000/ 200000: 1.9704\n",
      " 139000/ 200000: 1.6645\n",
      " 140000/ 200000: 1.7069\n",
      " 141000/ 200000: 1.6081\n",
      " 142000/ 200000: 1.9035\n",
      " 143000/ 200000: 1.9123\n",
      " 144000/ 200000: 2.0544\n",
      " 145000/ 200000: 1.8564\n",
      " 146000/ 200000: 2.2168\n",
      " 147000/ 200000: 1.8699\n",
      " 148000/ 200000: 1.6632\n",
      " 149000/ 200000: 1.9746\n",
      " 150000/ 200000: 1.7829\n",
      " 151000/ 200000: 1.9125\n",
      " 152000/ 200000: 2.0454\n",
      " 153000/ 200000: 1.9024\n",
      " 154000/ 200000: 1.5674\n",
      " 155000/ 200000: 1.7042\n",
      " 156000/ 200000: 1.7493\n",
      " 157000/ 200000: 1.4736\n",
      " 158000/ 200000: 1.6442\n",
      " 159000/ 200000: 1.5370\n",
      " 160000/ 200000: 1.7645\n",
      " 161000/ 200000: 1.4317\n",
      " 162000/ 200000: 1.5338\n",
      " 163000/ 200000: 1.4937\n",
      " 164000/ 200000: 1.9963\n",
      " 165000/ 200000: 1.6292\n",
      " 166000/ 200000: 1.7176\n",
      " 167000/ 200000: 1.4976\n",
      " 168000/ 200000: 1.5484\n",
      " 169000/ 200000: 1.6746\n",
      " 170000/ 200000: 1.3070\n",
      " 171000/ 200000: 1.8239\n",
      " 172000/ 200000: 1.8901\n",
      " 173000/ 200000: 1.7227\n",
      " 174000/ 200000: 2.1762\n",
      " 175000/ 200000: 2.2488\n",
      " 176000/ 200000: 1.4797\n",
      " 177000/ 200000: 1.5041\n",
      " 178000/ 200000: 1.4669\n",
      " 179000/ 200000: 1.5163\n",
      " 180000/ 200000: 1.6440\n",
      " 181000/ 200000: 2.0863\n",
      " 182000/ 200000: 1.7072\n",
      " 183000/ 200000: 1.6305\n",
      " 184000/ 200000: 1.2651\n",
      " 185000/ 200000: 1.1481\n",
      " 186000/ 200000: 1.6488\n",
      " 187000/ 200000: 1.4275\n",
      " 188000/ 200000: 2.1306\n",
      " 189000/ 200000: 1.1730\n",
      " 190000/ 200000: 1.8144\n",
      " 191000/ 200000: 1.3331\n",
      " 192000/ 200000: 1.4417\n",
      " 193000/ 200000: 1.6417\n",
      " 194000/ 200000: 1.5749\n",
      " 195000/ 200000: 1.4796\n",
      " 196000/ 200000: 1.8712\n",
      " 197000/ 200000: 1.6254\n",
      " 198000/ 200000: 1.6878\n",
      " 199000/ 200000: 1.7360\n"
     ]
    }
   ],
   "source": [
    "# same optimization as last time\n",
    "max_steps = 200000\n",
    "batch_size = 32\n",
    "lossi = []\n",
    "\n",
    "for i in range(max_steps):\n",
    "  \n",
    "  # minibatch construct\n",
    "  ix = torch.randint(0, Xtr.shape[0], (batch_size,))\n",
    "  Xb, Yb = Xtr[ix], Ytr[ix] # batch X,Y\n",
    "  \n",
    "  # forward pass\n",
    "  logits = model(Xb)\n",
    "  loss = F.cross_entropy(logits, Yb) # loss function\n",
    "  \n",
    "  # backward pass\n",
    "  for p in parameters:\n",
    "    p.grad = None\n",
    "  loss.backward()\n",
    "  \n",
    "  # update: simple SGD\n",
    "  lr = 0.1 if i < 150000 else 0.01 # step learning rate decay\n",
    "  for p in parameters:\n",
    "    p.data += -lr * p.grad\n",
    "\n",
    "  # track stats\n",
    "  if i % 1000 == 0: # print every once in a while\n",
    "    print(f'{i:7d}/{max_steps:7d}: {loss.item():.4f}')\n",
    "  lossi.append(loss.log10().item())"
   ]
  },
  {
   "cell_type": "markdown",
   "metadata": {},
   "source": [
    "This is batchwise loss value graph."
   ]
  },
  {
   "cell_type": "code",
   "execution_count": 14,
   "metadata": {},
   "outputs": [
    {
     "data": {
      "text/plain": [
       "[<matplotlib.lines.Line2D at 0x127ec55d0>]"
      ]
     },
     "execution_count": 14,
     "metadata": {},
     "output_type": "execute_result"
    },
    {
     "data": {
      "image/png": "[encoded data removed]",
      "text/plain": [
       "<Figure size 640x480 with 1 Axes>"
      ]
     },
     "metadata": {},
     "output_type": "display_data"
    }
   ],
   "source": [
    "plt.plot(torch.tensor(lossi).view(-1, 1000).mean(1))"
   ]
  },
  {
   "cell_type": "code",
   "execution_count": 15,
   "metadata": {},
   "outputs": [],
   "source": [
    "# put layers into eval mode (needed for batchnorm especially)\n",
    "for layer in model.layers:\n",
    "  layer.training = False"
   ]
  },
  {
   "cell_type": "markdown",
   "metadata": {},
   "source": [
    "Making Neural Network effective and accurate is perfect balancing act.\n",
    "\n",
    "\n",
    "As per training and validation loss, we need to lots of work."
   ]
  },
  {
   "cell_type": "code",
   "execution_count": 16,
   "metadata": {},
   "outputs": [
    {
     "name": "stdout",
     "output_type": "stream",
     "text": [
      "train 1.5138345956802368\n",
      "val 2.789623737335205\n"
     ]
    }
   ],
   "source": [
    "# evaluate the loss\n",
    "@torch.no_grad() # this decorator disables gradient tracking inside pytorch\n",
    "def split_loss(split):\n",
    "  x,y = {\n",
    "    'train': (Xtr, Ytr),\n",
    "    'val': (Xdev, Ydev),\n",
    "    'test': (Xte, Yte),\n",
    "  }[split]\n",
    "  logits = model(x)\n",
    "  loss = F.cross_entropy(logits, y)\n",
    "  print(split, loss.item())\n",
    "\n",
    "split_loss('train')\n",
    "split_loss('val')"
   ]
  },
  {
   "cell_type": "code",
   "execution_count": 17,
   "metadata": {},
   "outputs": [],
   "source": [
    "from IPython.core.interactiveshell import InteractiveShell\n",
    "InteractiveShell.ast_node_interactivity = \"all\""
   ]
  },
  {
   "cell_type": "markdown",
   "metadata": {},
   "source": [
    "Here is final output for now, some names come out after all hustle."
   ]
  },
  {
   "cell_type": "code",
   "execution_count": 18,
   "metadata": {},
   "outputs": [
    {
     "name": "stdout",
     "output_type": "stream",
     "text": [
      "पर्श्वर.\n",
      "मोह्मि.\n",
      "मोशत.\n",
      "हन्द्रि.\n",
      "मिश्रि.\n",
      "शेरा.\n",
      "हर्षद.\n",
      "हुर्य.\n",
      "दिन.\n",
      "उर्मिला.\n"
     ]
    }
   ],
   "source": [
    "# sample from the model\n",
    "for _ in range(10):\n",
    "    \n",
    "    out = []\n",
    "    context = [0] * block_size # initialize with all ...\n",
    "    while True:\n",
    "      # forward pass the neural net\n",
    "      logits = model(torch.tensor([context]))\n",
    "      probs = F.softmax(logits, dim=1)\n",
    "      # sample from the distribution\n",
    "      ix = torch.multinomial(probs, num_samples=1).item()\n",
    "      # shift the context window and track the samples\n",
    "      context = context[1:] + [ix]\n",
    "      out.append(ix)\n",
    "      # if we sample the special '.' token, break\n",
    "      if ix == 0:\n",
    "        break\n",
    "    \n",
    "    print(''.join(itos[i] for i in out)) # decode and print the generated word"
   ]
  }
 ],
 "metadata": {
  "kernelspec": {
   "display_name": "Python 3.11.3 64-bit",
   "language": "python",
   "name": "python3"
  },
  "language_info": {
   "codemirror_mode": {
    "name": "ipython",
    "version": 3
   },
   "file_extension": ".py",
   "mimetype": "text/x-python",
   "name": "python",
   "nbconvert_exporter": "python",
   "pygments_lexer": "ipython3",
   "version": "3.11.3"
  },
  "orig_nbformat": 4,
  "vscode": {
   "interpreter": {
    "hash": "b0fa6594d8f4cbf19f97940f81e996739fb7646882a419484c72d19e05852a7e"
   }
  }
 },
 "nbformat": 4,
 "nbformat_minor": 2
}
